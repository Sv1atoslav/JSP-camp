{
 "cells": [
  {
   "cell_type": "code",
   "execution_count": 164,
   "metadata": {},
   "outputs": [],
   "source": [
    "import pandas as pd\n",
    "from statsmodels.tsa.stattools import adfuller\n",
    "from statsmodels.tsa.stattools import kpss\n",
    "import re\n",
    "import matplotlib.pyplot as plt\n",
    "import numpy as np\n",
    "\n",
    "from statsmodels.tsa.vector_ar.var_model import VAR\n",
    "from statsmodels.tsa.statespace.varmax import VARMAX\n",
    "from statsmodels.tsa.vector_ar.vecm import coint_johansen\n",
    "from statsmodels.tsa.stattools import adfuller\n",
    "from statsmodels.tsa.stattools import kpss\n",
    "\n",
    "from sklearn.metrics import mean_squared_error\n",
    "from sklearn.metrics import mean_absolute_error\n",
    "from sklearn.preprocessing import MinMaxScaler"
   ]
  },
  {
   "cell_type": "code",
   "execution_count": 165,
   "metadata": {},
   "outputs": [],
   "source": [
    "num = 250\n",
    "test_size = 100 # do not use lot of test data, or else it will come a constant\n",
    "split_point_train = 2000\n",
    "data = pd.DataFrame([])\n",
    "\n",
    "sales = pd.read_csv(\"data/sales.csv\")\n",
    "items = pd.read_csv(\"data/items.csv\").drop('item_name',1)\n",
    "test = pd.read_csv(\"data/test.csv\")"
   ]
  },
  {
   "cell_type": "code",
   "execution_count": 166,
   "metadata": {},
   "outputs": [],
   "source": [
    "# data_y = sales['item_cnt_day']\n",
    "# sales = sales.drop('item_cnt_day', 1)"
   ]
  },
  {
   "cell_type": "code",
   "execution_count": 167,
   "metadata": {},
   "outputs": [
    {
     "data": {
      "text/html": [
       "<div>\n",
       "<style scoped>\n",
       "    .dataframe tbody tr th:only-of-type {\n",
       "        vertical-align: middle;\n",
       "    }\n",
       "\n",
       "    .dataframe tbody tr th {\n",
       "        vertical-align: top;\n",
       "    }\n",
       "\n",
       "    .dataframe thead th {\n",
       "        text-align: right;\n",
       "    }\n",
       "</style>\n",
       "<table border=\"1\" class=\"dataframe\">\n",
       "  <thead>\n",
       "    <tr style=\"text-align: right;\">\n",
       "      <th></th>\n",
       "      <th>date</th>\n",
       "      <th>date_block_num</th>\n",
       "      <th>shop_id</th>\n",
       "      <th>item_id</th>\n",
       "      <th>item_price</th>\n",
       "      <th>item_cnt_day</th>\n",
       "    </tr>\n",
       "  </thead>\n",
       "  <tbody>\n",
       "    <tr>\n",
       "      <th>0</th>\n",
       "      <td>02.01.2013</td>\n",
       "      <td>0</td>\n",
       "      <td>59</td>\n",
       "      <td>22154</td>\n",
       "      <td>999.0</td>\n",
       "      <td>1.0</td>\n",
       "    </tr>\n",
       "    <tr>\n",
       "      <th>1</th>\n",
       "      <td>03.01.2013</td>\n",
       "      <td>0</td>\n",
       "      <td>25</td>\n",
       "      <td>2552</td>\n",
       "      <td>899.0</td>\n",
       "      <td>1.0</td>\n",
       "    </tr>\n",
       "  </tbody>\n",
       "</table>\n",
       "</div>"
      ],
      "text/plain": [
       "         date  date_block_num  shop_id  item_id  item_price  item_cnt_day\n",
       "0  02.01.2013               0       59    22154       999.0           1.0\n",
       "1  03.01.2013               0       25     2552       899.0           1.0"
      ]
     },
     "execution_count": 167,
     "metadata": {},
     "output_type": "execute_result"
    }
   ],
   "source": [
    "sales.head(2)"
   ]
  },
  {
   "cell_type": "code",
   "execution_count": 168,
   "metadata": {},
   "outputs": [
    {
     "data": {
      "text/html": [
       "<div>\n",
       "<style scoped>\n",
       "    .dataframe tbody tr th:only-of-type {\n",
       "        vertical-align: middle;\n",
       "    }\n",
       "\n",
       "    .dataframe tbody tr th {\n",
       "        vertical-align: top;\n",
       "    }\n",
       "\n",
       "    .dataframe thead th {\n",
       "        text-align: right;\n",
       "    }\n",
       "</style>\n",
       "<table border=\"1\" class=\"dataframe\">\n",
       "  <thead>\n",
       "    <tr style=\"text-align: right;\">\n",
       "      <th></th>\n",
       "      <th>item_id</th>\n",
       "      <th>item_category_id</th>\n",
       "    </tr>\n",
       "  </thead>\n",
       "  <tbody>\n",
       "    <tr>\n",
       "      <th>0</th>\n",
       "      <td>0</td>\n",
       "      <td>40</td>\n",
       "    </tr>\n",
       "    <tr>\n",
       "      <th>1</th>\n",
       "      <td>1</td>\n",
       "      <td>76</td>\n",
       "    </tr>\n",
       "    <tr>\n",
       "      <th>2</th>\n",
       "      <td>2</td>\n",
       "      <td>40</td>\n",
       "    </tr>\n",
       "    <tr>\n",
       "      <th>3</th>\n",
       "      <td>3</td>\n",
       "      <td>40</td>\n",
       "    </tr>\n",
       "    <tr>\n",
       "      <th>4</th>\n",
       "      <td>4</td>\n",
       "      <td>40</td>\n",
       "    </tr>\n",
       "    <tr>\n",
       "      <th>5</th>\n",
       "      <td>5</td>\n",
       "      <td>40</td>\n",
       "    </tr>\n",
       "    <tr>\n",
       "      <th>6</th>\n",
       "      <td>6</td>\n",
       "      <td>40</td>\n",
       "    </tr>\n",
       "    <tr>\n",
       "      <th>7</th>\n",
       "      <td>7</td>\n",
       "      <td>40</td>\n",
       "    </tr>\n",
       "    <tr>\n",
       "      <th>8</th>\n",
       "      <td>8</td>\n",
       "      <td>40</td>\n",
       "    </tr>\n",
       "    <tr>\n",
       "      <th>9</th>\n",
       "      <td>9</td>\n",
       "      <td>40</td>\n",
       "    </tr>\n",
       "  </tbody>\n",
       "</table>\n",
       "</div>"
      ],
      "text/plain": [
       "   item_id  item_category_id\n",
       "0        0                40\n",
       "1        1                76\n",
       "2        2                40\n",
       "3        3                40\n",
       "4        4                40\n",
       "5        5                40\n",
       "6        6                40\n",
       "7        7                40\n",
       "8        8                40\n",
       "9        9                40"
      ]
     },
     "execution_count": 168,
     "metadata": {},
     "output_type": "execute_result"
    }
   ],
   "source": [
    "items.head(10)"
   ]
  },
  {
   "cell_type": "code",
   "execution_count": 169,
   "metadata": {},
   "outputs": [
    {
     "data": {
      "text/html": [
       "<div>\n",
       "<style scoped>\n",
       "    .dataframe tbody tr th:only-of-type {\n",
       "        vertical-align: middle;\n",
       "    }\n",
       "\n",
       "    .dataframe tbody tr th {\n",
       "        vertical-align: top;\n",
       "    }\n",
       "\n",
       "    .dataframe thead th {\n",
       "        text-align: right;\n",
       "    }\n",
       "</style>\n",
       "<table border=\"1\" class=\"dataframe\">\n",
       "  <thead>\n",
       "    <tr style=\"text-align: right;\">\n",
       "      <th></th>\n",
       "      <th>ID</th>\n",
       "      <th>shop_id</th>\n",
       "      <th>item_id</th>\n",
       "    </tr>\n",
       "  </thead>\n",
       "  <tbody>\n",
       "    <tr>\n",
       "      <th>0</th>\n",
       "      <td>0</td>\n",
       "      <td>5</td>\n",
       "      <td>5037</td>\n",
       "    </tr>\n",
       "    <tr>\n",
       "      <th>1</th>\n",
       "      <td>1</td>\n",
       "      <td>5</td>\n",
       "      <td>5320</td>\n",
       "    </tr>\n",
       "  </tbody>\n",
       "</table>\n",
       "</div>"
      ],
      "text/plain": [
       "   ID  shop_id  item_id\n",
       "0   0        5     5037\n",
       "1   1        5     5320"
      ]
     },
     "execution_count": 169,
     "metadata": {},
     "output_type": "execute_result"
    }
   ],
   "source": [
    "test.head(2)"
   ]
  },
  {
   "cell_type": "code",
   "execution_count": 170,
   "metadata": {},
   "outputs": [],
   "source": [
    "data = pd.merge(sales, items, how='inner', on=['item_id', 'item_id'])"
   ]
  },
  {
   "cell_type": "code",
   "execution_count": 171,
   "metadata": {},
   "outputs": [
    {
     "data": {
      "text/plain": [
       "0    02.01.2013\n",
       "1    23.01.2013\n",
       "Name: date, dtype: object"
      ]
     },
     "execution_count": 171,
     "metadata": {},
     "output_type": "execute_result"
    }
   ],
   "source": [
    "data.date.head(2)"
   ]
  },
  {
   "cell_type": "code",
   "execution_count": 172,
   "metadata": {
    "scrolled": true
   },
   "outputs": [
    {
     "data": {
      "text/html": [
       "<div>\n",
       "<style scoped>\n",
       "    .dataframe tbody tr th:only-of-type {\n",
       "        vertical-align: middle;\n",
       "    }\n",
       "\n",
       "    .dataframe tbody tr th {\n",
       "        vertical-align: top;\n",
       "    }\n",
       "\n",
       "    .dataframe thead th {\n",
       "        text-align: right;\n",
       "    }\n",
       "</style>\n",
       "<table border=\"1\" class=\"dataframe\">\n",
       "  <thead>\n",
       "    <tr style=\"text-align: right;\">\n",
       "      <th></th>\n",
       "      <th>date_block_num</th>\n",
       "      <th>shop_id</th>\n",
       "      <th>item_id</th>\n",
       "      <th>item_price</th>\n",
       "      <th>item_cnt_day</th>\n",
       "      <th>item_category_id</th>\n",
       "    </tr>\n",
       "    <tr>\n",
       "      <th>date</th>\n",
       "      <th></th>\n",
       "      <th></th>\n",
       "      <th></th>\n",
       "      <th></th>\n",
       "      <th></th>\n",
       "      <th></th>\n",
       "    </tr>\n",
       "  </thead>\n",
       "  <tbody>\n",
       "    <tr>\n",
       "      <th>02.01.2013</th>\n",
       "      <td>0</td>\n",
       "      <td>59</td>\n",
       "      <td>22154</td>\n",
       "      <td>999.0</td>\n",
       "      <td>1.0</td>\n",
       "      <td>37</td>\n",
       "    </tr>\n",
       "    <tr>\n",
       "      <th>23.01.2013</th>\n",
       "      <td>0</td>\n",
       "      <td>24</td>\n",
       "      <td>22154</td>\n",
       "      <td>999.0</td>\n",
       "      <td>1.0</td>\n",
       "      <td>37</td>\n",
       "    </tr>\n",
       "    <tr>\n",
       "      <th>20.01.2013</th>\n",
       "      <td>0</td>\n",
       "      <td>27</td>\n",
       "      <td>22154</td>\n",
       "      <td>999.0</td>\n",
       "      <td>1.0</td>\n",
       "      <td>37</td>\n",
       "    </tr>\n",
       "    <tr>\n",
       "      <th>02.01.2013</th>\n",
       "      <td>0</td>\n",
       "      <td>25</td>\n",
       "      <td>22154</td>\n",
       "      <td>999.0</td>\n",
       "      <td>1.0</td>\n",
       "      <td>37</td>\n",
       "    </tr>\n",
       "    <tr>\n",
       "      <th>03.01.2013</th>\n",
       "      <td>0</td>\n",
       "      <td>25</td>\n",
       "      <td>22154</td>\n",
       "      <td>999.0</td>\n",
       "      <td>1.0</td>\n",
       "      <td>37</td>\n",
       "    </tr>\n",
       "  </tbody>\n",
       "</table>\n",
       "</div>"
      ],
      "text/plain": [
       "            date_block_num  shop_id  item_id  item_price  item_cnt_day  \\\n",
       "date                                                                     \n",
       "02.01.2013               0       59    22154       999.0           1.0   \n",
       "23.01.2013               0       24    22154       999.0           1.0   \n",
       "20.01.2013               0       27    22154       999.0           1.0   \n",
       "02.01.2013               0       25    22154       999.0           1.0   \n",
       "03.01.2013               0       25    22154       999.0           1.0   \n",
       "\n",
       "            item_category_id  \n",
       "date                          \n",
       "02.01.2013                37  \n",
       "23.01.2013                37  \n",
       "20.01.2013                37  \n",
       "02.01.2013                37  \n",
       "03.01.2013                37  "
      ]
     },
     "execution_count": 172,
     "metadata": {},
     "output_type": "execute_result"
    }
   ],
   "source": [
    "# date = pd.to_datetime(data.date, format = \"%Y-%m-%d\")\n",
    "data.index = data.date\n",
    "data = data.drop([\"date\"], axis = 1)\n",
    "data.head()"
   ]
  },
  {
   "cell_type": "code",
   "execution_count": 173,
   "metadata": {},
   "outputs": [],
   "source": [
    "test = data[split_point_train:]\n",
    "train = data[:split_point_train]"
   ]
  },
  {
   "cell_type": "code",
   "execution_count": 174,
   "metadata": {
    "scrolled": true
   },
   "outputs": [
    {
     "data": {
      "text/plain": [
       "((2000, 6), (2933849, 6))"
      ]
     },
     "execution_count": 174,
     "metadata": {},
     "output_type": "execute_result"
    }
   ],
   "source": [
    "train.shape, test.shape"
   ]
  },
  {
   "cell_type": "code",
   "execution_count": 175,
   "metadata": {},
   "outputs": [
    {
     "data": {
      "text/plain": [
       "<matplotlib.axes._subplots.AxesSubplot at 0x16c38d7ab38>"
      ]
     },
     "execution_count": 175,
     "metadata": {},
     "output_type": "execute_result"
    },
    {
     "data": {
      "image/png": "[encoded data removed]",
      "text/plain": [
       "<Figure size 432x288 with 2 Axes>"
      ]
     },
     "metadata": {
      "needs_background": "light"
     },
     "output_type": "display_data"
    }
   ],
   "source": [
    "import seaborn as sns\n",
    "corr_data = data.corr()\n",
    "sns.heatmap(corr_data)"
   ]
  },
  {
   "cell_type": "markdown",
   "metadata": {},
   "source": [
    "# Check the stationarity\n",
    "\n",
    "For this we have to find **eigenvalues** of matrix Ф. To learn more how do we find the matrix Ф here: https://www.analyticsvidhya.com/blog/2018/09/multivariate-time-series-guide-forecasting-modeling-python-codes/\n",
    "\n",
    "The idea is to conduct **Johansen’s test**, that will give us the eigenvalues. \n",
    "\n",
    "1) eigenvalues < 1 => **stationary**\n",
    "\n",
    "2) eigenvalues > 1 => non-stationary\n"
   ]
  },
  {
   "cell_type": "code",
   "execution_count": 176,
   "metadata": {},
   "outputs": [
    {
     "data": {
      "text/plain": [
       "array([2.16081125e-01, 6.92213342e-02, 6.74876300e-03, 3.63693149e-03,\n",
       "       1.56779884e-03, 1.30228146e-04])"
      ]
     },
     "execution_count": 176,
     "metadata": {},
     "output_type": "execute_result"
    }
   ],
   "source": [
    "coint_johansen(data,-1,1).eig "
   ]
  },
  {
   "cell_type": "markdown",
   "metadata": {},
   "source": [
    "# Keras "
   ]
  },
  {
   "cell_type": "code",
   "execution_count": 177,
   "metadata": {},
   "outputs": [],
   "source": [
    "import keras\n",
    "from keras import Sequential\n",
    "from keras.layers import LSTM \n",
    "from keras.layers import Dense \n",
    "from keras.layers import Conv1D\n",
    "from keras.layers import MaxPooling1D\n",
    "from keras.layers import Flatten\n",
    "from keras.layers import TimeDistributed"
   ]
  },
  {
   "cell_type": "markdown",
   "metadata": {},
   "source": [
    "## Transport data for NN"
   ]
  },
  {
   "cell_type": "code",
   "execution_count": 178,
   "metadata": {},
   "outputs": [],
   "source": [
    "def series_to_supervised(data, n_in=1, n_out=1, dropnan=True):\n",
    "    n_vars = data.shape[1]\n",
    "    cols, names = list(), list()\n",
    "    df = pd.DataFrame(data)\n",
    "    # input sequence (t-n, ... t-1)\n",
    "    for i in range(n_in, 0, -1):\n",
    "        cols.append(df.shift(i))\n",
    "        names += [j + \"(t-{})\".format(i) for j in data.columns]\n",
    "    # forecast sequence (t, t+1, ... t+n) \n",
    "    for i in range(0, n_out):\n",
    "        cols.append(df.shift(-i))\n",
    "        if i == 0:\n",
    "            names += [j + \"(t)\" for j in data.columns]\n",
    "        else:\n",
    "            names += [j + \"(t+{})\".format(i) for j in data.columns]\n",
    "    # put it all together\n",
    "    agg = pd.concat(cols, axis=1)\n",
    "    agg.columns = names\n",
    "    # drop rows with NaN values\n",
    "    if dropnan:\n",
    "        agg.dropna(inplace=True) #any\n",
    "    return agg"
   ]
  },
  {
   "cell_type": "code",
   "execution_count": 179,
   "metadata": {},
   "outputs": [],
   "source": [
    "# prepare and split data\n",
    "def split_prepare(data, p, test_size = 0.2, scale = False, show = False):\n",
    "    supervised = series_to_supervised(data,p,1)\n",
    "#     supervised = supervised.drop([\"humidity(t)\",\"pressure(t)\", \"wind_speed(t)\"], axis = 1)\n",
    "    \n",
    "    if scale:\n",
    "        scaler = MinMaxScaler(feature_range=(0, 1))\n",
    "        supervised_scaled = scaler.fit_transform(supervised)\n",
    "        supervised = pd.DataFrame(supervised_scaled, columns = supervised.columns)\n",
    "        \n",
    "    if show:\n",
    "        print(supervised.head())\n",
    "    \n",
    "    \n",
    "    if test_size > 1:\n",
    "        train = supervised[:-test_size]    \n",
    "        test = supervised[-test_size:]\n",
    "    else:\n",
    "        test_size = int(test_size*data.shape[0])\n",
    "        train = supervised[:-test_size]    \n",
    "        test = supervised[-test_size:]\n",
    "        \n",
    "        \n",
    "    if show:\n",
    "        print(\"train/test sizes are: {}, {}\".format(train.shape, test.shape))\n",
    "    \n",
    "    features = list(supervised.columns)\n",
    "    features.remove(\"item_cnt_day(t)\")\n",
    "    train_X, train_y = train[features].values, train[[\"item_cnt_day(t)\"]].values\n",
    "    test_X, test_y = test[features].values, test[[\"item_cnt_day(t)\"]].values\n",
    "    return train_X, train_y, test_X, test_y"
   ]
  },
  {
   "cell_type": "code",
   "execution_count": 180,
   "metadata": {},
   "outputs": [],
   "source": [
    "def scale_back_labels(test_X, test_y):\n",
    "    \n",
    "    test = pd.DataFrame(test_X, copy = True)\n",
    "    test[\"item_cnt_day(t)\"] = test_y\n",
    "    \n",
    "    test_transformed = scaler.inverse_transform(test.values)\n",
    "    return test_transformed[:,-1]"
   ]
  },
  {
   "cell_type": "code",
   "execution_count": 181,
   "metadata": {
    "scrolled": true
   },
   "outputs": [
    {
     "name": "stdout",
     "output_type": "stream",
     "text": [
      "            date_block_num(t-5)  shop_id(t-5)  item_id(t-5)  item_price(t-5)  \\\n",
      "date                                                                           \n",
      "20.01.2013                  0.0          59.0       22154.0            999.0   \n",
      "23.01.2013                  0.0          24.0       22154.0            999.0   \n",
      "26.01.2013                  0.0          27.0       22154.0            999.0   \n",
      "27.01.2013                  0.0          25.0       22154.0            999.0   \n",
      "10.01.2013                  0.0          25.0       22154.0            999.0   \n",
      "\n",
      "            item_cnt_day(t-5)  item_category_id(t-5)  date_block_num(t-4)  \\\n",
      "date                                                                        \n",
      "20.01.2013                1.0                   37.0                  0.0   \n",
      "23.01.2013                1.0                   37.0                  0.0   \n",
      "26.01.2013                1.0                   37.0                  0.0   \n",
      "27.01.2013                1.0                   37.0                  0.0   \n",
      "10.01.2013                1.0                   37.0                  0.0   \n",
      "\n",
      "            shop_id(t-4)  item_id(t-4)  item_price(t-4)  ...  item_id(t-1)  \\\n",
      "date                                                     ...                 \n",
      "20.01.2013          24.0       22154.0            999.0  ...       22154.0   \n",
      "23.01.2013          27.0       22154.0            999.0  ...       22154.0   \n",
      "26.01.2013          25.0       22154.0            999.0  ...       22154.0   \n",
      "27.01.2013          25.0       22154.0            999.0  ...       22154.0   \n",
      "10.01.2013          25.0       22154.0            999.0  ...       22154.0   \n",
      "\n",
      "            item_price(t-1)  item_cnt_day(t-1)  item_category_id(t-1)  \\\n",
      "date                                                                    \n",
      "20.01.2013            999.0                1.0                   37.0   \n",
      "23.01.2013            999.0                1.0                   37.0   \n",
      "26.01.2013            999.0                1.0                   37.0   \n",
      "27.01.2013            999.0                1.0                   37.0   \n",
      "10.01.2013            999.0                1.0                   37.0   \n",
      "\n",
      "            date_block_num(t)  shop_id(t)  item_id(t)  item_price(t)  \\\n",
      "date                                                                   \n",
      "20.01.2013                  0          25       22154          999.0   \n",
      "23.01.2013                  0          25       22154          999.0   \n",
      "26.01.2013                  0          25       22154          999.0   \n",
      "27.01.2013                  0           6       22154          999.0   \n",
      "10.01.2013                  0          15       22154          999.0   \n",
      "\n",
      "            item_cnt_day(t)  item_category_id(t)  \n",
      "date                                              \n",
      "20.01.2013              1.0                   37  \n",
      "23.01.2013              1.0                   37  \n",
      "26.01.2013              1.0                   37  \n",
      "27.01.2013              1.0                   37  \n",
      "10.01.2013              1.0                   37  \n",
      "\n",
      "[5 rows x 36 columns]\n",
      "train/test sizes are: (2935744, 36), (100, 36)\n"
     ]
    }
   ],
   "source": [
    "p = 5 ### global variable!\n",
    "train_X, train_y, test_X, test_y = split_prepare(data, p, test_size = test_size, scale = False, show = True)"
   ]
  },
  {
   "cell_type": "code",
   "execution_count": 182,
   "metadata": {},
   "outputs": [
    {
     "data": {
      "text/plain": [
       "((2935744, 35), (2935744, 1))"
      ]
     },
     "execution_count": 182,
     "metadata": {},
     "output_type": "execute_result"
    }
   ],
   "source": [
    "train_X.shape,train_y.shape"
   ]
  },
  {
   "cell_type": "code",
   "execution_count": 183,
   "metadata": {},
   "outputs": [],
   "source": [
    "train_X = train_X[:5000]\n",
    "train_y = train_y[:5000]"
   ]
  },
  {
   "cell_type": "markdown",
   "metadata": {},
   "source": [
    "## Create CNN"
   ]
  },
  {
   "cell_type": "code",
   "execution_count": 184,
   "metadata": {},
   "outputs": [
    {
     "data": {
      "text/plain": [
       "(5000, 35, 1)"
      ]
     },
     "execution_count": 184,
     "metadata": {},
     "output_type": "execute_result"
    }
   ],
   "source": [
    "### neeeded for CNN\n",
    "train_X_cnn = train_X.reshape((train_X.shape[0], train_X.shape[1], 1))\n",
    "test_X_cnn = test_X.reshape((test_X.shape[0], test_X.shape[1], 1))\n",
    "train_X_cnn.shape"
   ]
  },
  {
   "cell_type": "code",
   "execution_count": 200,
   "metadata": {},
   "outputs": [
    {
     "data": {
      "text/plain": [
       "(5000, 35, 1)"
      ]
     },
     "execution_count": 200,
     "metadata": {},
     "output_type": "execute_result"
    }
   ],
   "source": [
    "train_X_cnn.shape"
   ]
  },
  {
   "cell_type": "code",
   "execution_count": 203,
   "metadata": {},
   "outputs": [
    {
     "data": {
      "text/plain": [
       "(5000, 35)"
      ]
     },
     "execution_count": 203,
     "metadata": {},
     "output_type": "execute_result"
    }
   ],
   "source": [
    "train_X.shape"
   ]
  },
  {
   "cell_type": "code",
   "execution_count": 185,
   "metadata": {},
   "outputs": [],
   "source": [
    "# design network СNN\n",
    "model = Sequential()\n",
    "model.add(Conv1D(filters = 32, kernel_size = 2, activation = \"relu\", input_shape=(train_X_cnn.shape[1], train_X_cnn.shape[2])))\n",
    "model.add(MaxPooling1D(pool_size=2))\n",
    "model.add(Flatten())\n",
    "model.add(Dense(50))\n",
    "model.add(Dense(1))\n",
    "model.compile(loss='mae', optimizer='adadelta')"
   ]
  },
  {
   "cell_type": "code",
   "execution_count": 186,
   "metadata": {
    "scrolled": true
   },
   "outputs": [
    {
     "name": "stdout",
     "output_type": "stream",
     "text": [
      "Train on 5000 samples, validate on 100 samples\n",
      "Epoch 1/90\n",
      "5000/5000 [==============================] - 1s 227us/step - loss: 169.9040 - val_loss: 905.7619\n",
      "Epoch 2/90\n",
      "5000/5000 [==============================] - 1s 151us/step - loss: 189.5521 - val_loss: 700.5205\n",
      "Epoch 3/90\n",
      "5000/5000 [==============================] - 1s 150us/step - loss: 155.9620 - val_loss: 629.5713\n",
      "Epoch 4/90\n",
      "5000/5000 [==============================] - 1s 152us/step - loss: 119.8325 - val_loss: 424.0295\n",
      "Epoch 5/90\n",
      "5000/5000 [==============================] - 1s 147us/step - loss: 91.7152 - val_loss: 404.6860\n",
      "Epoch 6/90\n",
      "5000/5000 [==============================] - 1s 147us/step - loss: 66.6037 - val_loss: 270.9734\n",
      "Epoch 7/90\n",
      "5000/5000 [==============================] - 1s 147us/step - loss: 47.9385 - val_loss: 215.3734\n",
      "Epoch 8/90\n",
      "5000/5000 [==============================] - 1s 150us/step - loss: 33.7571 - val_loss: 159.8421\n",
      "Epoch 9/90\n",
      "5000/5000 [==============================] - 1s 154us/step - loss: 23.6981 - val_loss: 110.6288\n",
      "Epoch 10/90\n",
      "5000/5000 [==============================] - 1s 159us/step - loss: 16.9855 - val_loss: 85.6944\n",
      "Epoch 11/90\n",
      "5000/5000 [==============================] - 1s 152us/step - loss: 12.6973 - val_loss: 67.6493\n",
      "Epoch 12/90\n",
      "5000/5000 [==============================] - 1s 156us/step - loss: 9.6530 - val_loss: 45.3220\n",
      "Epoch 13/90\n",
      "5000/5000 [==============================] - 1s 157us/step - loss: 6.9639 - val_loss: 36.4984\n",
      "Epoch 14/90\n",
      "5000/5000 [==============================] - 1s 147us/step - loss: 4.8540 - val_loss: 18.7025\n",
      "Epoch 15/90\n",
      "5000/5000 [==============================] - 1s 150us/step - loss: 3.2495 - val_loss: 16.5700\n",
      "Epoch 16/90\n",
      "5000/5000 [==============================] - 1s 153us/step - loss: 2.2734 - val_loss: 11.1767\n",
      "Epoch 17/90\n",
      "5000/5000 [==============================] - 1s 150us/step - loss: 1.4879 - val_loss: 8.5115\n",
      "Epoch 18/90\n",
      "5000/5000 [==============================] - 1s 148us/step - loss: 0.9633 - val_loss: 4.4423\n",
      "Epoch 19/90\n",
      "5000/5000 [==============================] - 1s 148us/step - loss: 0.6298 - val_loss: 3.0784\n",
      "Epoch 20/90\n",
      "5000/5000 [==============================] - 1s 153us/step - loss: 0.2951 - val_loss: 1.1520\n",
      "Epoch 21/90\n",
      "5000/5000 [==============================] - 1s 153us/step - loss: 0.0892 - val_loss: 0.2081\n",
      "Epoch 22/90\n",
      "5000/5000 [==============================] - 1s 155us/step - loss: 0.0626 - val_loss: 0.1785\n",
      "Epoch 23/90\n",
      "5000/5000 [==============================] - 1s 149us/step - loss: 0.0633 - val_loss: 0.1668\n",
      "Epoch 24/90\n",
      "5000/5000 [==============================] - 1s 154us/step - loss: 0.0639 - val_loss: 0.1672\n",
      "Epoch 25/90\n",
      "5000/5000 [==============================] - 1s 151us/step - loss: 0.0644 - val_loss: 0.1766\n",
      "Epoch 26/90\n",
      "5000/5000 [==============================] - 1s 154us/step - loss: 0.0649 - val_loss: 0.1718\n",
      "Epoch 27/90\n",
      "5000/5000 [==============================] - 1s 156us/step - loss: 0.0652 - val_loss: 0.1697\n",
      "Epoch 28/90\n",
      "5000/5000 [==============================] - 1s 157us/step - loss: 0.0655 - val_loss: 0.1688\n",
      "Epoch 29/90\n",
      "5000/5000 [==============================] - 1s 157us/step - loss: 0.0658 - val_loss: 0.1696\n",
      "Epoch 30/90\n",
      "5000/5000 [==============================] - 1s 155us/step - loss: 0.0661 - val_loss: 0.1697\n",
      "Epoch 31/90\n",
      "5000/5000 [==============================] - 1s 155us/step - loss: 0.0663 - val_loss: 0.1690\n",
      "Epoch 32/90\n",
      "5000/5000 [==============================] - 1s 154us/step - loss: 0.0666 - val_loss: 0.1675\n",
      "Epoch 33/90\n",
      "5000/5000 [==============================] - 1s 155us/step - loss: 0.0667 - val_loss: 0.1680\n",
      "Epoch 34/90\n",
      "5000/5000 [==============================] - 1s 154us/step - loss: 0.0670 - val_loss: 0.1791\n",
      "Epoch 35/90\n",
      "5000/5000 [==============================] - 1s 151us/step - loss: 0.0670 - val_loss: 0.1748\n",
      "Epoch 36/90\n",
      "5000/5000 [==============================] - 1s 150us/step - loss: 0.0672 - val_loss: 0.1713\n",
      "Epoch 37/90\n",
      "5000/5000 [==============================] - 1s 146us/step - loss: 0.0672 - val_loss: 0.1701\n",
      "Epoch 38/90\n",
      "5000/5000 [==============================] - 1s 147us/step - loss: 0.0673 - val_loss: 0.1693\n",
      "Epoch 39/90\n",
      "5000/5000 [==============================] - 1s 150us/step - loss: 0.0673 - val_loss: 0.1799\n",
      "Epoch 40/90\n",
      "5000/5000 [==============================] - 1s 152us/step - loss: 0.0673 - val_loss: 0.1727\n",
      "Epoch 41/90\n",
      "5000/5000 [==============================] - 1s 156us/step - loss: 0.0673 - val_loss: 0.1711\n",
      "Epoch 42/90\n",
      "5000/5000 [==============================] - 1s 156us/step - loss: 0.0672 - val_loss: 0.1729\n",
      "Epoch 43/90\n",
      "5000/5000 [==============================] - 1s 160us/step - loss: 0.0672 - val_loss: 0.1714\n",
      "Epoch 44/90\n",
      "5000/5000 [==============================] - 1s 145us/step - loss: 0.0671 - val_loss: 0.1788\n",
      "Epoch 45/90\n",
      "5000/5000 [==============================] - 1s 150us/step - loss: 0.0671 - val_loss: 0.1794\n",
      "Epoch 46/90\n",
      "5000/5000 [==============================] - 1s 157us/step - loss: 0.0671 - val_loss: 0.1781\n",
      "Epoch 47/90\n",
      "5000/5000 [==============================] - 1s 164us/step - loss: 0.0670 - val_loss: 0.1787\n",
      "Epoch 48/90\n",
      "5000/5000 [==============================] - 1s 146us/step - loss: 0.0669 - val_loss: 0.1775\n",
      "Epoch 49/90\n",
      "5000/5000 [==============================] - 1s 152us/step - loss: 0.0668 - val_loss: 0.1781\n",
      "Epoch 50/90\n",
      "5000/5000 [==============================] - 1s 158us/step - loss: 0.0667 - val_loss: 0.1769\n",
      "Epoch 51/90\n",
      "5000/5000 [==============================] - 1s 153us/step - loss: 0.0666 - val_loss: 0.1778\n",
      "Epoch 52/90\n",
      "5000/5000 [==============================] - 1s 155us/step - loss: 0.0665 - val_loss: 0.1788\n",
      "Epoch 53/90\n",
      "5000/5000 [==============================] - 1s 153us/step - loss: 0.0663 - val_loss: 0.1760\n",
      "Epoch 54/90\n",
      "5000/5000 [==============================] - 1s 158us/step - loss: 0.0662 - val_loss: 0.1695\n",
      "Epoch 55/90\n",
      "5000/5000 [==============================] - 1s 151us/step - loss: 0.0660 - val_loss: 0.1685\n",
      "Epoch 56/90\n",
      "5000/5000 [==============================] - 1s 149us/step - loss: 0.0658 - val_loss: 0.1676\n",
      "Epoch 57/90\n",
      "5000/5000 [==============================] - 1s 148us/step - loss: 0.0657 - val_loss: 0.1701\n",
      "Epoch 58/90\n",
      "5000/5000 [==============================] - 1s 162us/step - loss: 0.0656 - val_loss: 0.1693\n",
      "Epoch 59/90\n",
      "5000/5000 [==============================] - 1s 147us/step - loss: 0.0655 - val_loss: 0.1683\n",
      "Epoch 60/90\n",
      "5000/5000 [==============================] - 1s 152us/step - loss: 0.0653 - val_loss: 0.1653\n",
      "Epoch 61/90\n",
      "5000/5000 [==============================] - 1s 153us/step - loss: 0.0652 - val_loss: 0.1757\n",
      "Epoch 62/90\n",
      "5000/5000 [==============================] - 1s 157us/step - loss: 0.0650 - val_loss: 0.1694\n",
      "Epoch 63/90\n",
      "5000/5000 [==============================] - 1s 153us/step - loss: 0.0648 - val_loss: 0.1680\n",
      "Epoch 64/90\n",
      "5000/5000 [==============================] - 1s 154us/step - loss: 0.0646 - val_loss: 0.1696\n",
      "Epoch 65/90\n",
      "5000/5000 [==============================] - 1s 147us/step - loss: 0.0645 - val_loss: 0.1680\n",
      "Epoch 66/90\n",
      "5000/5000 [==============================] - 1s 153us/step - loss: 0.0643 - val_loss: 0.1693\n",
      "Epoch 67/90\n",
      "5000/5000 [==============================] - 1s 153us/step - loss: 0.0641 - val_loss: 0.1674\n",
      "Epoch 68/90\n",
      "5000/5000 [==============================] - 1s 153us/step - loss: 0.0639 - val_loss: 0.1669\n",
      "Epoch 69/90\n",
      "5000/5000 [==============================] - 1s 154us/step - loss: 0.0637 - val_loss: 0.1663\n",
      "Epoch 70/90\n",
      "5000/5000 [==============================] - 1s 156us/step - loss: 0.0636 - val_loss: 0.1743\n",
      "Epoch 71/90\n",
      "5000/5000 [==============================] - 1s 153us/step - loss: 0.0634 - val_loss: 0.1744\n",
      "Epoch 72/90\n",
      "5000/5000 [==============================] - 1s 151us/step - loss: 0.0632 - val_loss: 0.1741\n",
      "Epoch 73/90\n",
      "5000/5000 [==============================] - 1s 153us/step - loss: 0.0630 - val_loss: 0.1736\n",
      "Epoch 74/90\n",
      "5000/5000 [==============================] - 1s 153us/step - loss: 0.0629 - val_loss: 0.1743\n",
      "Epoch 75/90\n",
      "5000/5000 [==============================] - 1s 154us/step - loss: 0.0626 - val_loss: 0.1733\n",
      "Epoch 76/90\n",
      "5000/5000 [==============================] - 1s 153us/step - loss: 0.0625 - val_loss: 0.1750\n",
      "Epoch 77/90\n",
      "5000/5000 [==============================] - 1s 152us/step - loss: 0.0623 - val_loss: 0.1696\n",
      "Epoch 78/90\n"
     ]
    },
    {
     "name": "stdout",
     "output_type": "stream",
     "text": [
      "5000/5000 [==============================] - 1s 150us/step - loss: 0.0621 - val_loss: 0.1693\n",
      "Epoch 79/90\n",
      "5000/5000 [==============================] - 1s 149us/step - loss: 0.0619 - val_loss: 0.1687\n",
      "Epoch 80/90\n",
      "5000/5000 [==============================] - 1s 149us/step - loss: 0.0618 - val_loss: 0.1719\n",
      "Epoch 81/90\n",
      "5000/5000 [==============================] - 1s 150us/step - loss: 0.0616 - val_loss: 0.1685\n",
      "Epoch 82/90\n",
      "5000/5000 [==============================] - 1s 150us/step - loss: 0.0614 - val_loss: 0.1674\n",
      "Epoch 83/90\n",
      "5000/5000 [==============================] - 1s 152us/step - loss: 0.0612 - val_loss: 0.1639\n",
      "Epoch 84/90\n",
      "5000/5000 [==============================] - 1s 153us/step - loss: 0.0611 - val_loss: 0.1640\n",
      "Epoch 85/90\n",
      "5000/5000 [==============================] - 1s 154us/step - loss: 0.0609 - val_loss: 0.1649\n",
      "Epoch 86/90\n",
      "5000/5000 [==============================] - 1s 151us/step - loss: 0.0607 - val_loss: 0.1636\n",
      "Epoch 87/90\n",
      "5000/5000 [==============================] - 1s 151us/step - loss: 0.0605 - val_loss: 0.1643\n",
      "Epoch 88/90\n",
      "5000/5000 [==============================] - 1s 153us/step - loss: 0.0603 - val_loss: 0.1640\n",
      "Epoch 89/90\n",
      "5000/5000 [==============================] - 1s 154us/step - loss: 0.0601 - val_loss: 0.1638\n",
      "Epoch 90/90\n",
      "5000/5000 [==============================] - 1s 154us/step - loss: 0.0600 - val_loss: 0.1637\n"
     ]
    },
    {
     "data": {
      "image/png": "[encoded data removed]",
      "text/plain": [
       "<Figure size 432x288 with 1 Axes>"
      ]
     },
     "metadata": {
      "needs_background": "light"
     },
     "output_type": "display_data"
    }
   ],
   "source": [
    "# fit network\n",
    "history_cnn = model.fit(train_X_cnn, train_y, epochs=90, batch_size=30, validation_data=(test_X_cnn, test_y), verbose=1, shuffle=False)\n",
    "# plot history\n",
    "plt.plot(history_cnn.history['loss'], label='train')\n",
    "plt.plot(history_cnn.history['val_loss'], label='test')\n",
    "plt.legend()\n",
    "plt.show()"
   ]
  },
  {
   "cell_type": "code",
   "execution_count": 187,
   "metadata": {},
   "outputs": [],
   "source": [
    "test_xx = data.drop('item_category_id',1)[-2000:]\n",
    "test_yy = data['item_category_id'][-2000:]"
   ]
  },
  {
   "cell_type": "code",
   "execution_count": 204,
   "metadata": {},
   "outputs": [],
   "source": [
    "preds_cnn = model.predict(test_X_cnn)"
   ]
  },
  {
   "cell_type": "code",
   "execution_count": 206,
   "metadata": {},
   "outputs": [
    {
     "data": {
      "text/plain": [
       "(100, 35, 1)"
      ]
     },
     "execution_count": 206,
     "metadata": {},
     "output_type": "execute_result"
    }
   ],
   "source": []
  },
  {
   "cell_type": "code",
   "execution_count": 205,
   "metadata": {},
   "outputs": [
    {
     "data": {
      "text/plain": [
       "array([[1.0005636 ],\n",
       "       [1.0005636 ],\n",
       "       [1.0005636 ],\n",
       "       [1.0005636 ],\n",
       "       [1.0005636 ],\n",
       "       [1.0005636 ],\n",
       "       [1.0005636 ],\n",
       "       [1.0005636 ],\n",
       "       [1.0005636 ],\n",
       "       [1.0005636 ],\n",
       "       [1.0005636 ],\n",
       "       [1.0005636 ],\n",
       "       [1.0005636 ],\n",
       "       [1.0005636 ],\n",
       "       [1.0005636 ],\n",
       "       [1.0005636 ],\n",
       "       [1.0005636 ],\n",
       "       [1.0005636 ],\n",
       "       [1.0005636 ],\n",
       "       [1.0005636 ],\n",
       "       [1.0005636 ],\n",
       "       [1.0005636 ],\n",
       "       [1.0005636 ],\n",
       "       [1.0005636 ],\n",
       "       [1.0005636 ],\n",
       "       [1.0005636 ],\n",
       "       [1.0005636 ],\n",
       "       [1.0005636 ],\n",
       "       [1.0005636 ],\n",
       "       [1.0005636 ],\n",
       "       [1.0005636 ],\n",
       "       [0.8369225 ],\n",
       "       [0.86240333],\n",
       "       [0.8216388 ],\n",
       "       [0.87083477],\n",
       "       [0.89260054],\n",
       "       [1.0005636 ],\n",
       "       [1.0005636 ],\n",
       "       [1.0005636 ],\n",
       "       [1.0005636 ],\n",
       "       [1.0005636 ],\n",
       "       [1.0005636 ],\n",
       "       [1.0005636 ],\n",
       "       [1.0005636 ],\n",
       "       [1.0005636 ],\n",
       "       [1.0005636 ],\n",
       "       [1.0005636 ],\n",
       "       [1.0005636 ],\n",
       "       [1.0005636 ],\n",
       "       [1.0005636 ],\n",
       "       [1.0005636 ],\n",
       "       [1.0005636 ],\n",
       "       [1.0005636 ],\n",
       "       [1.0005636 ],\n",
       "       [1.0005636 ],\n",
       "       [1.0005636 ],\n",
       "       [1.0005636 ],\n",
       "       [1.0005636 ],\n",
       "       [1.0005636 ],\n",
       "       [1.0005636 ],\n",
       "       [1.0005636 ],\n",
       "       [1.0005636 ],\n",
       "       [1.0005636 ],\n",
       "       [1.0005636 ],\n",
       "       [1.0005636 ],\n",
       "       [1.0005636 ],\n",
       "       [1.0005636 ],\n",
       "       [1.0005636 ],\n",
       "       [1.0005636 ],\n",
       "       [1.0005636 ],\n",
       "       [1.0005636 ],\n",
       "       [1.0005636 ],\n",
       "       [1.0005636 ],\n",
       "       [1.0005636 ],\n",
       "       [1.0005636 ],\n",
       "       [1.0005636 ],\n",
       "       [1.0005636 ],\n",
       "       [1.0005636 ],\n",
       "       [1.0005636 ],\n",
       "       [1.0005636 ],\n",
       "       [1.0005636 ],\n",
       "       [1.0005636 ],\n",
       "       [1.0005636 ],\n",
       "       [1.0005636 ],\n",
       "       [1.0005636 ],\n",
       "       [1.0005636 ],\n",
       "       [1.0005636 ],\n",
       "       [1.0005636 ],\n",
       "       [1.0005636 ],\n",
       "       [0.95332456],\n",
       "       [0.9320426 ],\n",
       "       [0.9011008 ],\n",
       "       [0.9110688 ],\n",
       "       [0.919248  ],\n",
       "       [0.9597958 ],\n",
       "       [0.97885466],\n",
       "       [1.0005636 ],\n",
       "       [0.9418751 ],\n",
       "       [0.9421836 ],\n",
       "       [0.94284093]], dtype=float32)"
      ]
     },
     "execution_count": 205,
     "metadata": {},
     "output_type": "execute_result"
    }
   ],
   "source": [
    "preds_cnn"
   ]
  },
  {
   "cell_type": "code",
   "execution_count": 152,
   "metadata": {},
   "outputs": [
    {
     "ename": "ValueError",
     "evalue": "x and y can be no greater than 2-D, but have shapes (5000,) and (5000, 35, 1)",
     "output_type": "error",
     "traceback": [
      "\u001b[1;31m---------------------------------------------------------------------------\u001b[0m",
      "\u001b[1;31mValueError\u001b[0m                                Traceback (most recent call last)",
      "\u001b[1;32m<ipython-input-152-4c8d9cc1bcfe>\u001b[0m in \u001b[0;36m<module>\u001b[1;34m\u001b[0m\n\u001b[0;32m      2\u001b[0m \u001b[0mplt\u001b[0m\u001b[1;33m.\u001b[0m\u001b[0mplot\u001b[0m\u001b[1;33m(\u001b[0m\u001b[0mpreds_cnn\u001b[0m\u001b[1;33m,\u001b[0m \u001b[0mcolor\u001b[0m\u001b[1;33m=\u001b[0m\u001b[1;34m'red'\u001b[0m\u001b[1;33m,\u001b[0m \u001b[0mlabel\u001b[0m\u001b[1;33m=\u001b[0m\u001b[1;34m'predicted'\u001b[0m\u001b[1;33m)\u001b[0m\u001b[1;33m\u001b[0m\u001b[1;33m\u001b[0m\u001b[0m\n\u001b[0;32m      3\u001b[0m \u001b[0mplt\u001b[0m\u001b[1;33m.\u001b[0m\u001b[0mlegend\u001b[0m\u001b[1;33m(\u001b[0m\u001b[0mloc\u001b[0m\u001b[1;33m=\u001b[0m\u001b[1;34m'best'\u001b[0m\u001b[1;33m)\u001b[0m\u001b[1;33m\u001b[0m\u001b[1;33m\u001b[0m\u001b[0m\n\u001b[1;32m----> 4\u001b[1;33m \u001b[0mplt\u001b[0m\u001b[1;33m.\u001b[0m\u001b[0mplot\u001b[0m\u001b[1;33m(\u001b[0m\u001b[0mtrain_X_cnn\u001b[0m\u001b[1;33m,\u001b[0m \u001b[0mlabel\u001b[0m\u001b[1;33m=\u001b[0m\u001b[1;34m'actual'\u001b[0m\u001b[1;33m)\u001b[0m\u001b[1;33m\u001b[0m\u001b[1;33m\u001b[0m\u001b[0m\n\u001b[0m\u001b[0;32m      5\u001b[0m \u001b[0mplt\u001b[0m\u001b[1;33m.\u001b[0m\u001b[0mtitle\u001b[0m\u001b[1;33m(\u001b[0m\u001b[1;34m'MSE: %.4f'\u001b[0m\u001b[1;33m%\u001b[0m \u001b[0mnp\u001b[0m\u001b[1;33m.\u001b[0m\u001b[0msqrt\u001b[0m\u001b[1;33m(\u001b[0m\u001b[0msum\u001b[0m\u001b[1;33m(\u001b[0m\u001b[1;33m(\u001b[0m\u001b[0mforecast_full\u001b[0m\u001b[1;33m[\u001b[0m\u001b[0mstart\u001b[0m\u001b[1;33m:\u001b[0m\u001b[0mend\u001b[0m\u001b[1;33m]\u001b[0m\u001b[1;33m.\u001b[0m\u001b[0mvalues\u001b[0m \u001b[1;33m-\u001b[0m \u001b[0mdata\u001b[0m\u001b[1;33m[\u001b[0m\u001b[0mcol\u001b[0m\u001b[1;33m]\u001b[0m\u001b[1;33m[\u001b[0m\u001b[0mstart\u001b[0m\u001b[1;33m:\u001b[0m\u001b[0mend\u001b[0m\u001b[1;33m]\u001b[0m\u001b[1;33m.\u001b[0m\u001b[0mvalues\u001b[0m\u001b[1;33m)\u001b[0m\u001b[1;33m**\u001b[0m\u001b[1;36m2\u001b[0m\u001b[1;33m)\u001b[0m\u001b[1;33m)\u001b[0m\u001b[1;33m)\u001b[0m\u001b[1;33m\u001b[0m\u001b[1;33m\u001b[0m\u001b[0m\n\u001b[0;32m      6\u001b[0m \u001b[0mplt\u001b[0m\u001b[1;33m.\u001b[0m\u001b[0mlegend\u001b[0m\u001b[1;33m(\u001b[0m\u001b[0mloc\u001b[0m\u001b[1;33m=\u001b[0m\u001b[1;34m'best'\u001b[0m\u001b[1;33m)\u001b[0m\u001b[1;33m\u001b[0m\u001b[1;33m\u001b[0m\u001b[0m\n",
      "\u001b[1;32m~\\Anaconda3\\lib\\site-packages\\matplotlib\\pyplot.py\u001b[0m in \u001b[0;36mplot\u001b[1;34m(scalex, scaley, data, *args, **kwargs)\u001b[0m\n\u001b[0;32m   2787\u001b[0m     return gca().plot(\n\u001b[0;32m   2788\u001b[0m         *args, scalex=scalex, scaley=scaley, **({\"data\": data} if data\n\u001b[1;32m-> 2789\u001b[1;33m         is not None else {}), **kwargs)\n\u001b[0m\u001b[0;32m   2790\u001b[0m \u001b[1;33m\u001b[0m\u001b[0m\n\u001b[0;32m   2791\u001b[0m \u001b[1;33m\u001b[0m\u001b[0m\n",
      "\u001b[1;32m~\\Anaconda3\\lib\\site-packages\\matplotlib\\axes\\_axes.py\u001b[0m in \u001b[0;36mplot\u001b[1;34m(self, scalex, scaley, data, *args, **kwargs)\u001b[0m\n\u001b[0;32m   1664\u001b[0m         \"\"\"\n\u001b[0;32m   1665\u001b[0m         \u001b[0mkwargs\u001b[0m \u001b[1;33m=\u001b[0m \u001b[0mcbook\u001b[0m\u001b[1;33m.\u001b[0m\u001b[0mnormalize_kwargs\u001b[0m\u001b[1;33m(\u001b[0m\u001b[0mkwargs\u001b[0m\u001b[1;33m,\u001b[0m \u001b[0mmlines\u001b[0m\u001b[1;33m.\u001b[0m\u001b[0mLine2D\u001b[0m\u001b[1;33m.\u001b[0m\u001b[0m_alias_map\u001b[0m\u001b[1;33m)\u001b[0m\u001b[1;33m\u001b[0m\u001b[1;33m\u001b[0m\u001b[0m\n\u001b[1;32m-> 1666\u001b[1;33m         \u001b[0mlines\u001b[0m \u001b[1;33m=\u001b[0m \u001b[1;33m[\u001b[0m\u001b[1;33m*\u001b[0m\u001b[0mself\u001b[0m\u001b[1;33m.\u001b[0m\u001b[0m_get_lines\u001b[0m\u001b[1;33m(\u001b[0m\u001b[1;33m*\u001b[0m\u001b[0margs\u001b[0m\u001b[1;33m,\u001b[0m \u001b[0mdata\u001b[0m\u001b[1;33m=\u001b[0m\u001b[0mdata\u001b[0m\u001b[1;33m,\u001b[0m \u001b[1;33m**\u001b[0m\u001b[0mkwargs\u001b[0m\u001b[1;33m)\u001b[0m\u001b[1;33m]\u001b[0m\u001b[1;33m\u001b[0m\u001b[1;33m\u001b[0m\u001b[0m\n\u001b[0m\u001b[0;32m   1667\u001b[0m         \u001b[1;32mfor\u001b[0m \u001b[0mline\u001b[0m \u001b[1;32min\u001b[0m \u001b[0mlines\u001b[0m\u001b[1;33m:\u001b[0m\u001b[1;33m\u001b[0m\u001b[1;33m\u001b[0m\u001b[0m\n\u001b[0;32m   1668\u001b[0m             \u001b[0mself\u001b[0m\u001b[1;33m.\u001b[0m\u001b[0madd_line\u001b[0m\u001b[1;33m(\u001b[0m\u001b[0mline\u001b[0m\u001b[1;33m)\u001b[0m\u001b[1;33m\u001b[0m\u001b[1;33m\u001b[0m\u001b[0m\n",
      "\u001b[1;32m~\\Anaconda3\\lib\\site-packages\\matplotlib\\axes\\_base.py\u001b[0m in \u001b[0;36m__call__\u001b[1;34m(self, *args, **kwargs)\u001b[0m\n\u001b[0;32m    223\u001b[0m                 \u001b[0mthis\u001b[0m \u001b[1;33m+=\u001b[0m \u001b[0margs\u001b[0m\u001b[1;33m[\u001b[0m\u001b[1;36m0\u001b[0m\u001b[1;33m]\u001b[0m\u001b[1;33m,\u001b[0m\u001b[1;33m\u001b[0m\u001b[1;33m\u001b[0m\u001b[0m\n\u001b[0;32m    224\u001b[0m                 \u001b[0margs\u001b[0m \u001b[1;33m=\u001b[0m \u001b[0margs\u001b[0m\u001b[1;33m[\u001b[0m\u001b[1;36m1\u001b[0m\u001b[1;33m:\u001b[0m\u001b[1;33m]\u001b[0m\u001b[1;33m\u001b[0m\u001b[1;33m\u001b[0m\u001b[0m\n\u001b[1;32m--> 225\u001b[1;33m             \u001b[1;32myield\u001b[0m \u001b[1;32mfrom\u001b[0m \u001b[0mself\u001b[0m\u001b[1;33m.\u001b[0m\u001b[0m_plot_args\u001b[0m\u001b[1;33m(\u001b[0m\u001b[0mthis\u001b[0m\u001b[1;33m,\u001b[0m \u001b[0mkwargs\u001b[0m\u001b[1;33m)\u001b[0m\u001b[1;33m\u001b[0m\u001b[1;33m\u001b[0m\u001b[0m\n\u001b[0m\u001b[0;32m    226\u001b[0m \u001b[1;33m\u001b[0m\u001b[0m\n\u001b[0;32m    227\u001b[0m     \u001b[1;32mdef\u001b[0m \u001b[0mget_next_color\u001b[0m\u001b[1;33m(\u001b[0m\u001b[0mself\u001b[0m\u001b[1;33m)\u001b[0m\u001b[1;33m:\u001b[0m\u001b[1;33m\u001b[0m\u001b[1;33m\u001b[0m\u001b[0m\n",
      "\u001b[1;32m~\\Anaconda3\\lib\\site-packages\\matplotlib\\axes\\_base.py\u001b[0m in \u001b[0;36m_plot_args\u001b[1;34m(self, tup, kwargs)\u001b[0m\n\u001b[0;32m    389\u001b[0m             \u001b[0mx\u001b[0m\u001b[1;33m,\u001b[0m \u001b[0my\u001b[0m \u001b[1;33m=\u001b[0m \u001b[0mindex_of\u001b[0m\u001b[1;33m(\u001b[0m\u001b[0mtup\u001b[0m\u001b[1;33m[\u001b[0m\u001b[1;33m-\u001b[0m\u001b[1;36m1\u001b[0m\u001b[1;33m]\u001b[0m\u001b[1;33m)\u001b[0m\u001b[1;33m\u001b[0m\u001b[1;33m\u001b[0m\u001b[0m\n\u001b[0;32m    390\u001b[0m \u001b[1;33m\u001b[0m\u001b[0m\n\u001b[1;32m--> 391\u001b[1;33m         \u001b[0mx\u001b[0m\u001b[1;33m,\u001b[0m \u001b[0my\u001b[0m \u001b[1;33m=\u001b[0m \u001b[0mself\u001b[0m\u001b[1;33m.\u001b[0m\u001b[0m_xy_from_xy\u001b[0m\u001b[1;33m(\u001b[0m\u001b[0mx\u001b[0m\u001b[1;33m,\u001b[0m \u001b[0my\u001b[0m\u001b[1;33m)\u001b[0m\u001b[1;33m\u001b[0m\u001b[1;33m\u001b[0m\u001b[0m\n\u001b[0m\u001b[0;32m    392\u001b[0m \u001b[1;33m\u001b[0m\u001b[0m\n\u001b[0;32m    393\u001b[0m         \u001b[1;32mif\u001b[0m \u001b[0mself\u001b[0m\u001b[1;33m.\u001b[0m\u001b[0mcommand\u001b[0m \u001b[1;33m==\u001b[0m \u001b[1;34m'plot'\u001b[0m\u001b[1;33m:\u001b[0m\u001b[1;33m\u001b[0m\u001b[1;33m\u001b[0m\u001b[0m\n",
      "\u001b[1;32m~\\Anaconda3\\lib\\site-packages\\matplotlib\\axes\\_base.py\u001b[0m in \u001b[0;36m_xy_from_xy\u001b[1;34m(self, x, y)\u001b[0m\n\u001b[0;32m    271\u001b[0m         \u001b[1;32mif\u001b[0m \u001b[0mx\u001b[0m\u001b[1;33m.\u001b[0m\u001b[0mndim\u001b[0m \u001b[1;33m>\u001b[0m \u001b[1;36m2\u001b[0m \u001b[1;32mor\u001b[0m \u001b[0my\u001b[0m\u001b[1;33m.\u001b[0m\u001b[0mndim\u001b[0m \u001b[1;33m>\u001b[0m \u001b[1;36m2\u001b[0m\u001b[1;33m:\u001b[0m\u001b[1;33m\u001b[0m\u001b[1;33m\u001b[0m\u001b[0m\n\u001b[0;32m    272\u001b[0m             raise ValueError(\"x and y can be no greater than 2-D, but have \"\n\u001b[1;32m--> 273\u001b[1;33m                              \"shapes {} and {}\".format(x.shape, y.shape))\n\u001b[0m\u001b[0;32m    274\u001b[0m \u001b[1;33m\u001b[0m\u001b[0m\n\u001b[0;32m    275\u001b[0m         \u001b[1;32mif\u001b[0m \u001b[0mx\u001b[0m\u001b[1;33m.\u001b[0m\u001b[0mndim\u001b[0m \u001b[1;33m==\u001b[0m \u001b[1;36m1\u001b[0m\u001b[1;33m:\u001b[0m\u001b[1;33m\u001b[0m\u001b[1;33m\u001b[0m\u001b[0m\n",
      "\u001b[1;31mValueError\u001b[0m: x and y can be no greater than 2-D, but have shapes (5000,) and (5000, 35, 1)"
     ]
    },
    {
     "data": {
      "image/png": "[encoded data removed]",
      "text/plain": [
       "<Figure size 1080x360 with 1 Axes>"
      ]
     },
     "metadata": {
      "needs_background": "light"
     },
     "output_type": "display_data"
    }
   ],
   "source": [
    "plt.figure(figsize = (10,6))\n",
    "plt.plot(real, label = \"real\")\n",
    "plt.plot(preds_cnn, label = \"CNN\")\n",
    "#plt.plot(range(len(preds_varmax.loc[\"temperature\"])),preds_varmax.loc[\"temperature\"], label = \"predict varmax\")\n",
    "#plt.plot(range(len(preds_var[2])), preds_var[2], label = \"predict var\")\n",
    "plt.legend()"
   ]
  },
  {
   "cell_type": "code",
   "execution_count": 117,
   "metadata": {},
   "outputs": [
    {
     "data": {
      "text/plain": [
       "((30, 35), (30, 1))"
      ]
     },
     "execution_count": 117,
     "metadata": {},
     "output_type": "execute_result"
    }
   ],
   "source": [
    "test_X.shape, preds_cnn.shape"
   ]
  },
  {
   "cell_type": "code",
   "execution_count": 31,
   "metadata": {
    "scrolled": true
   },
   "outputs": [
    {
     "ename": "NameError",
     "evalue": "name 'StandardScaler' is not defined",
     "output_type": "error",
     "traceback": [
      "\u001b[1;31m---------------------------------------------------------------------------\u001b[0m",
      "\u001b[1;31mNameError\u001b[0m                                 Traceback (most recent call last)",
      "\u001b[1;32m<ipython-input-31-68e85b4de4e2>\u001b[0m in \u001b[0;36m<module>\u001b[1;34m\u001b[0m\n\u001b[0;32m      3\u001b[0m \u001b[1;33m\u001b[0m\u001b[0m\n\u001b[0;32m      4\u001b[0m \u001b[0morignal_preds_cnn\u001b[0m \u001b[1;33m=\u001b[0m \u001b[1;33m(\u001b[0m\u001b[0mtest_X\u001b[0m\u001b[1;33m,\u001b[0m \u001b[0mpreds_cnn\u001b[0m\u001b[1;33m)\u001b[0m\u001b[1;33m\u001b[0m\u001b[1;33m\u001b[0m\u001b[0m\n\u001b[1;32m----> 5\u001b[1;33m \u001b[0mreal\u001b[0m \u001b[1;33m=\u001b[0m \u001b[0mscale_back_labels\u001b[0m\u001b[1;33m(\u001b[0m\u001b[0mtest_X\u001b[0m\u001b[1;33m,\u001b[0m \u001b[0mtest_y\u001b[0m\u001b[1;33m)\u001b[0m\u001b[1;33m\u001b[0m\u001b[1;33m\u001b[0m\u001b[0m\n\u001b[0m\u001b[0;32m      6\u001b[0m \u001b[1;33m\u001b[0m\u001b[0m\n\u001b[0;32m      7\u001b[0m \u001b[1;31m# calculate RMSE\u001b[0m\u001b[1;33m\u001b[0m\u001b[1;33m\u001b[0m\u001b[1;33m\u001b[0m\u001b[0m\n",
      "\u001b[1;32m<ipython-input-30-52d57fa2dd40>\u001b[0m in \u001b[0;36mscale_back_labels\u001b[1;34m(test_X, test_y)\u001b[0m\n\u001b[0;32m      4\u001b[0m     \u001b[0mtest\u001b[0m\u001b[1;33m[\u001b[0m\u001b[1;34m\"item_cnt_day(t)\"\u001b[0m\u001b[1;33m]\u001b[0m \u001b[1;33m=\u001b[0m \u001b[0mtest_y\u001b[0m\u001b[1;33m\u001b[0m\u001b[1;33m\u001b[0m\u001b[0m\n\u001b[0;32m      5\u001b[0m \u001b[1;33m\u001b[0m\u001b[0m\n\u001b[1;32m----> 6\u001b[1;33m     \u001b[0mtest_transformed\u001b[0m \u001b[1;33m=\u001b[0m \u001b[0mStandardScaler\u001b[0m\u001b[1;33m(\u001b[0m\u001b[1;33m)\u001b[0m\u001b[1;33m.\u001b[0m\u001b[0minverse_transform\u001b[0m\u001b[1;33m(\u001b[0m\u001b[0mtest\u001b[0m\u001b[1;33m.\u001b[0m\u001b[0mvalues\u001b[0m\u001b[1;33m)\u001b[0m\u001b[1;33m\u001b[0m\u001b[1;33m\u001b[0m\u001b[0m\n\u001b[0m\u001b[0;32m      7\u001b[0m     \u001b[1;32mreturn\u001b[0m \u001b[0mtest_transformed\u001b[0m\u001b[1;33m[\u001b[0m\u001b[1;33m:\u001b[0m\u001b[1;33m,\u001b[0m\u001b[1;33m-\u001b[0m\u001b[1;36m1\u001b[0m\u001b[1;33m]\u001b[0m\u001b[1;33m\u001b[0m\u001b[1;33m\u001b[0m\u001b[0m\n",
      "\u001b[1;31mNameError\u001b[0m: name 'StandardScaler' is not defined"
     ]
    }
   ],
   "source": [
    "# make a prediction\n",
    "preds_cnn = model.predict(test_X_cnn)\n",
    "\n",
    "orignal_preds_cnn = (test_X, preds_cnn)\n",
    "real = scale_back_labels(test_X, test_y)\n",
    "\n",
    "# calculate RMSE\n",
    "rmse = np.sqrt(mean_squared_error(real, orignal_preds_cnn))\n",
    "print('Test RMSE for CNN: ', rmse)\n",
    "print('Test MAE for CNN: ', mean_absolute_error(real, orignal_preds_cnn))"
   ]
  },
  {
   "cell_type": "code",
   "execution_count": 52,
   "metadata": {
    "scrolled": false
   },
   "outputs": [
    {
     "ename": "ValueError",
     "evalue": "could not broadcast input array from shape (30,29) into shape (30)",
     "output_type": "error",
     "traceback": [
      "\u001b[1;31m---------------------------------------------------------------------------\u001b[0m",
      "\u001b[1;31mAttributeError\u001b[0m                            Traceback (most recent call last)",
      "\u001b[1;32m~\\Anaconda3\\lib\\site-packages\\matplotlib\\cbook\\__init__.py\u001b[0m in \u001b[0;36mindex_of\u001b[1;34m(y)\u001b[0m\n\u001b[0;32m   1644\u001b[0m     \u001b[1;32mtry\u001b[0m\u001b[1;33m:\u001b[0m\u001b[1;33m\u001b[0m\u001b[1;33m\u001b[0m\u001b[0m\n\u001b[1;32m-> 1645\u001b[1;33m         \u001b[1;32mreturn\u001b[0m \u001b[0my\u001b[0m\u001b[1;33m.\u001b[0m\u001b[0mindex\u001b[0m\u001b[1;33m.\u001b[0m\u001b[0mvalues\u001b[0m\u001b[1;33m,\u001b[0m \u001b[0my\u001b[0m\u001b[1;33m.\u001b[0m\u001b[0mvalues\u001b[0m\u001b[1;33m\u001b[0m\u001b[1;33m\u001b[0m\u001b[0m\n\u001b[0m\u001b[0;32m   1646\u001b[0m     \u001b[1;32mexcept\u001b[0m \u001b[0mAttributeError\u001b[0m\u001b[1;33m:\u001b[0m\u001b[1;33m\u001b[0m\u001b[1;33m\u001b[0m\u001b[0m\n",
      "\u001b[1;31mAttributeError\u001b[0m: 'builtin_function_or_method' object has no attribute 'values'",
      "\nDuring handling of the above exception, another exception occurred:\n",
      "\u001b[1;31mValueError\u001b[0m                                Traceback (most recent call last)",
      "\u001b[1;32m<ipython-input-52-bb75d579a03c>\u001b[0m in \u001b[0;36m<module>\u001b[1;34m\u001b[0m\n\u001b[0;32m      1\u001b[0m \u001b[0mplt\u001b[0m\u001b[1;33m.\u001b[0m\u001b[0mfigure\u001b[0m\u001b[1;33m(\u001b[0m\u001b[0mfigsize\u001b[0m \u001b[1;33m=\u001b[0m \u001b[1;33m(\u001b[0m\u001b[1;36m10\u001b[0m\u001b[1;33m,\u001b[0m\u001b[1;36m6\u001b[0m\u001b[1;33m)\u001b[0m\u001b[1;33m)\u001b[0m\u001b[1;33m\u001b[0m\u001b[1;33m\u001b[0m\u001b[0m\n\u001b[1;32m----> 2\u001b[1;33m \u001b[0mplt\u001b[0m\u001b[1;33m.\u001b[0m\u001b[0mplot\u001b[0m\u001b[1;33m(\u001b[0m\u001b[0mreal\u001b[0m\u001b[1;33m,\u001b[0m \u001b[0mlabel\u001b[0m \u001b[1;33m=\u001b[0m \u001b[1;34m\"real\"\u001b[0m\u001b[1;33m)\u001b[0m\u001b[1;33m\u001b[0m\u001b[1;33m\u001b[0m\u001b[0m\n\u001b[0m\u001b[0;32m      3\u001b[0m \u001b[0mplt\u001b[0m\u001b[1;33m.\u001b[0m\u001b[0mplot\u001b[0m\u001b[1;33m(\u001b[0m\u001b[0morignal_preds\u001b[0m\u001b[1;33m,\u001b[0m \u001b[0mlabel\u001b[0m \u001b[1;33m=\u001b[0m \u001b[1;34m\"LSTM\"\u001b[0m\u001b[1;33m)\u001b[0m\u001b[1;33m\u001b[0m\u001b[1;33m\u001b[0m\u001b[0m\n\u001b[0;32m      4\u001b[0m \u001b[0mplt\u001b[0m\u001b[1;33m.\u001b[0m\u001b[0mplot\u001b[0m\u001b[1;33m(\u001b[0m\u001b[0morignal_preds_cnn\u001b[0m\u001b[1;33m,\u001b[0m \u001b[0mlabel\u001b[0m \u001b[1;33m=\u001b[0m \u001b[1;34m\"CNN\"\u001b[0m\u001b[1;33m)\u001b[0m\u001b[1;33m\u001b[0m\u001b[1;33m\u001b[0m\u001b[0m\n\u001b[0;32m      5\u001b[0m \u001b[1;31m#plt.plot(range(len(preds_varmax.loc[\"temperature\"])),preds_varmax.loc[\"temperature\"], label = \"predict varmax\")\u001b[0m\u001b[1;33m\u001b[0m\u001b[1;33m\u001b[0m\u001b[1;33m\u001b[0m\u001b[0m\n",
      "\u001b[1;32m~\\Anaconda3\\lib\\site-packages\\matplotlib\\pyplot.py\u001b[0m in \u001b[0;36mplot\u001b[1;34m(scalex, scaley, data, *args, **kwargs)\u001b[0m\n\u001b[0;32m   2787\u001b[0m     return gca().plot(\n\u001b[0;32m   2788\u001b[0m         *args, scalex=scalex, scaley=scaley, **({\"data\": data} if data\n\u001b[1;32m-> 2789\u001b[1;33m         is not None else {}), **kwargs)\n\u001b[0m\u001b[0;32m   2790\u001b[0m \u001b[1;33m\u001b[0m\u001b[0m\n\u001b[0;32m   2791\u001b[0m \u001b[1;33m\u001b[0m\u001b[0m\n",
      "\u001b[1;32m~\\Anaconda3\\lib\\site-packages\\matplotlib\\axes\\_axes.py\u001b[0m in \u001b[0;36mplot\u001b[1;34m(self, scalex, scaley, data, *args, **kwargs)\u001b[0m\n\u001b[0;32m   1664\u001b[0m         \"\"\"\n\u001b[0;32m   1665\u001b[0m         \u001b[0mkwargs\u001b[0m \u001b[1;33m=\u001b[0m \u001b[0mcbook\u001b[0m\u001b[1;33m.\u001b[0m\u001b[0mnormalize_kwargs\u001b[0m\u001b[1;33m(\u001b[0m\u001b[0mkwargs\u001b[0m\u001b[1;33m,\u001b[0m \u001b[0mmlines\u001b[0m\u001b[1;33m.\u001b[0m\u001b[0mLine2D\u001b[0m\u001b[1;33m.\u001b[0m\u001b[0m_alias_map\u001b[0m\u001b[1;33m)\u001b[0m\u001b[1;33m\u001b[0m\u001b[1;33m\u001b[0m\u001b[0m\n\u001b[1;32m-> 1666\u001b[1;33m         \u001b[0mlines\u001b[0m \u001b[1;33m=\u001b[0m \u001b[1;33m[\u001b[0m\u001b[1;33m*\u001b[0m\u001b[0mself\u001b[0m\u001b[1;33m.\u001b[0m\u001b[0m_get_lines\u001b[0m\u001b[1;33m(\u001b[0m\u001b[1;33m*\u001b[0m\u001b[0margs\u001b[0m\u001b[1;33m,\u001b[0m \u001b[0mdata\u001b[0m\u001b[1;33m=\u001b[0m\u001b[0mdata\u001b[0m\u001b[1;33m,\u001b[0m \u001b[1;33m**\u001b[0m\u001b[0mkwargs\u001b[0m\u001b[1;33m)\u001b[0m\u001b[1;33m]\u001b[0m\u001b[1;33m\u001b[0m\u001b[1;33m\u001b[0m\u001b[0m\n\u001b[0m\u001b[0;32m   1667\u001b[0m         \u001b[1;32mfor\u001b[0m \u001b[0mline\u001b[0m \u001b[1;32min\u001b[0m \u001b[0mlines\u001b[0m\u001b[1;33m:\u001b[0m\u001b[1;33m\u001b[0m\u001b[1;33m\u001b[0m\u001b[0m\n\u001b[0;32m   1668\u001b[0m             \u001b[0mself\u001b[0m\u001b[1;33m.\u001b[0m\u001b[0madd_line\u001b[0m\u001b[1;33m(\u001b[0m\u001b[0mline\u001b[0m\u001b[1;33m)\u001b[0m\u001b[1;33m\u001b[0m\u001b[1;33m\u001b[0m\u001b[0m\n",
      "\u001b[1;32m~\\Anaconda3\\lib\\site-packages\\matplotlib\\axes\\_base.py\u001b[0m in \u001b[0;36m__call__\u001b[1;34m(self, *args, **kwargs)\u001b[0m\n\u001b[0;32m    223\u001b[0m                 \u001b[0mthis\u001b[0m \u001b[1;33m+=\u001b[0m \u001b[0margs\u001b[0m\u001b[1;33m[\u001b[0m\u001b[1;36m0\u001b[0m\u001b[1;33m]\u001b[0m\u001b[1;33m,\u001b[0m\u001b[1;33m\u001b[0m\u001b[1;33m\u001b[0m\u001b[0m\n\u001b[0;32m    224\u001b[0m                 \u001b[0margs\u001b[0m \u001b[1;33m=\u001b[0m \u001b[0margs\u001b[0m\u001b[1;33m[\u001b[0m\u001b[1;36m1\u001b[0m\u001b[1;33m:\u001b[0m\u001b[1;33m]\u001b[0m\u001b[1;33m\u001b[0m\u001b[1;33m\u001b[0m\u001b[0m\n\u001b[1;32m--> 225\u001b[1;33m             \u001b[1;32myield\u001b[0m \u001b[1;32mfrom\u001b[0m \u001b[0mself\u001b[0m\u001b[1;33m.\u001b[0m\u001b[0m_plot_args\u001b[0m\u001b[1;33m(\u001b[0m\u001b[0mthis\u001b[0m\u001b[1;33m,\u001b[0m \u001b[0mkwargs\u001b[0m\u001b[1;33m)\u001b[0m\u001b[1;33m\u001b[0m\u001b[1;33m\u001b[0m\u001b[0m\n\u001b[0m\u001b[0;32m    226\u001b[0m \u001b[1;33m\u001b[0m\u001b[0m\n\u001b[0;32m    227\u001b[0m     \u001b[1;32mdef\u001b[0m \u001b[0mget_next_color\u001b[0m\u001b[1;33m(\u001b[0m\u001b[0mself\u001b[0m\u001b[1;33m)\u001b[0m\u001b[1;33m:\u001b[0m\u001b[1;33m\u001b[0m\u001b[1;33m\u001b[0m\u001b[0m\n",
      "\u001b[1;32m~\\Anaconda3\\lib\\site-packages\\matplotlib\\axes\\_base.py\u001b[0m in \u001b[0;36m_plot_args\u001b[1;34m(self, tup, kwargs)\u001b[0m\n\u001b[0;32m    387\u001b[0m             \u001b[0my\u001b[0m \u001b[1;33m=\u001b[0m \u001b[0m_check_1d\u001b[0m\u001b[1;33m(\u001b[0m\u001b[0mtup\u001b[0m\u001b[1;33m[\u001b[0m\u001b[1;33m-\u001b[0m\u001b[1;36m1\u001b[0m\u001b[1;33m]\u001b[0m\u001b[1;33m)\u001b[0m\u001b[1;33m\u001b[0m\u001b[1;33m\u001b[0m\u001b[0m\n\u001b[0;32m    388\u001b[0m         \u001b[1;32melse\u001b[0m\u001b[1;33m:\u001b[0m\u001b[1;33m\u001b[0m\u001b[1;33m\u001b[0m\u001b[0m\n\u001b[1;32m--> 389\u001b[1;33m             \u001b[0mx\u001b[0m\u001b[1;33m,\u001b[0m \u001b[0my\u001b[0m \u001b[1;33m=\u001b[0m \u001b[0mindex_of\u001b[0m\u001b[1;33m(\u001b[0m\u001b[0mtup\u001b[0m\u001b[1;33m[\u001b[0m\u001b[1;33m-\u001b[0m\u001b[1;36m1\u001b[0m\u001b[1;33m]\u001b[0m\u001b[1;33m)\u001b[0m\u001b[1;33m\u001b[0m\u001b[1;33m\u001b[0m\u001b[0m\n\u001b[0m\u001b[0;32m    390\u001b[0m \u001b[1;33m\u001b[0m\u001b[0m\n\u001b[0;32m    391\u001b[0m         \u001b[0mx\u001b[0m\u001b[1;33m,\u001b[0m \u001b[0my\u001b[0m \u001b[1;33m=\u001b[0m \u001b[0mself\u001b[0m\u001b[1;33m.\u001b[0m\u001b[0m_xy_from_xy\u001b[0m\u001b[1;33m(\u001b[0m\u001b[0mx\u001b[0m\u001b[1;33m,\u001b[0m \u001b[0my\u001b[0m\u001b[1;33m)\u001b[0m\u001b[1;33m\u001b[0m\u001b[1;33m\u001b[0m\u001b[0m\n",
      "\u001b[1;32m~\\Anaconda3\\lib\\site-packages\\matplotlib\\cbook\\__init__.py\u001b[0m in \u001b[0;36mindex_of\u001b[1;34m(y)\u001b[0m\n\u001b[0;32m   1645\u001b[0m         \u001b[1;32mreturn\u001b[0m \u001b[0my\u001b[0m\u001b[1;33m.\u001b[0m\u001b[0mindex\u001b[0m\u001b[1;33m.\u001b[0m\u001b[0mvalues\u001b[0m\u001b[1;33m,\u001b[0m \u001b[0my\u001b[0m\u001b[1;33m.\u001b[0m\u001b[0mvalues\u001b[0m\u001b[1;33m\u001b[0m\u001b[1;33m\u001b[0m\u001b[0m\n\u001b[0;32m   1646\u001b[0m     \u001b[1;32mexcept\u001b[0m \u001b[0mAttributeError\u001b[0m\u001b[1;33m:\u001b[0m\u001b[1;33m\u001b[0m\u001b[1;33m\u001b[0m\u001b[0m\n\u001b[1;32m-> 1647\u001b[1;33m         \u001b[0my\u001b[0m \u001b[1;33m=\u001b[0m \u001b[0m_check_1d\u001b[0m\u001b[1;33m(\u001b[0m\u001b[0my\u001b[0m\u001b[1;33m)\u001b[0m\u001b[1;33m\u001b[0m\u001b[1;33m\u001b[0m\u001b[0m\n\u001b[0m\u001b[0;32m   1648\u001b[0m         \u001b[1;32mreturn\u001b[0m \u001b[0mnp\u001b[0m\u001b[1;33m.\u001b[0m\u001b[0marange\u001b[0m\u001b[1;33m(\u001b[0m\u001b[0my\u001b[0m\u001b[1;33m.\u001b[0m\u001b[0mshape\u001b[0m\u001b[1;33m[\u001b[0m\u001b[1;36m0\u001b[0m\u001b[1;33m]\u001b[0m\u001b[1;33m,\u001b[0m \u001b[0mdtype\u001b[0m\u001b[1;33m=\u001b[0m\u001b[0mfloat\u001b[0m\u001b[1;33m)\u001b[0m\u001b[1;33m,\u001b[0m \u001b[0my\u001b[0m\u001b[1;33m\u001b[0m\u001b[1;33m\u001b[0m\u001b[0m\n\u001b[0;32m   1649\u001b[0m \u001b[1;33m\u001b[0m\u001b[0m\n",
      "\u001b[1;32m~\\Anaconda3\\lib\\site-packages\\matplotlib\\cbook\\__init__.py\u001b[0m in \u001b[0;36m_check_1d\u001b[1;34m(x)\u001b[0m\n\u001b[0;32m   1397\u001b[0m     '''\n\u001b[0;32m   1398\u001b[0m     \u001b[1;32mif\u001b[0m \u001b[1;32mnot\u001b[0m \u001b[0mhasattr\u001b[0m\u001b[1;33m(\u001b[0m\u001b[0mx\u001b[0m\u001b[1;33m,\u001b[0m \u001b[1;34m'shape'\u001b[0m\u001b[1;33m)\u001b[0m \u001b[1;32mor\u001b[0m \u001b[0mlen\u001b[0m\u001b[1;33m(\u001b[0m\u001b[0mx\u001b[0m\u001b[1;33m.\u001b[0m\u001b[0mshape\u001b[0m\u001b[1;33m)\u001b[0m \u001b[1;33m<\u001b[0m \u001b[1;36m1\u001b[0m\u001b[1;33m:\u001b[0m\u001b[1;33m\u001b[0m\u001b[1;33m\u001b[0m\u001b[0m\n\u001b[1;32m-> 1399\u001b[1;33m         \u001b[1;32mreturn\u001b[0m \u001b[0mnp\u001b[0m\u001b[1;33m.\u001b[0m\u001b[0matleast_1d\u001b[0m\u001b[1;33m(\u001b[0m\u001b[0mx\u001b[0m\u001b[1;33m)\u001b[0m\u001b[1;33m\u001b[0m\u001b[1;33m\u001b[0m\u001b[0m\n\u001b[0m\u001b[0;32m   1400\u001b[0m     \u001b[1;32melse\u001b[0m\u001b[1;33m:\u001b[0m\u001b[1;33m\u001b[0m\u001b[1;33m\u001b[0m\u001b[0m\n\u001b[0;32m   1401\u001b[0m         \u001b[1;32mtry\u001b[0m\u001b[1;33m:\u001b[0m\u001b[1;33m\u001b[0m\u001b[1;33m\u001b[0m\u001b[0m\n",
      "\u001b[1;32m~\\Anaconda3\\lib\\site-packages\\numpy\\core\\shape_base.py\u001b[0m in \u001b[0;36matleast_1d\u001b[1;34m(*arys)\u001b[0m\n\u001b[0;32m     65\u001b[0m     \u001b[0mres\u001b[0m \u001b[1;33m=\u001b[0m \u001b[1;33m[\u001b[0m\u001b[1;33m]\u001b[0m\u001b[1;33m\u001b[0m\u001b[1;33m\u001b[0m\u001b[0m\n\u001b[0;32m     66\u001b[0m     \u001b[1;32mfor\u001b[0m \u001b[0mary\u001b[0m \u001b[1;32min\u001b[0m \u001b[0marys\u001b[0m\u001b[1;33m:\u001b[0m\u001b[1;33m\u001b[0m\u001b[1;33m\u001b[0m\u001b[0m\n\u001b[1;32m---> 67\u001b[1;33m         \u001b[0mary\u001b[0m \u001b[1;33m=\u001b[0m \u001b[0masanyarray\u001b[0m\u001b[1;33m(\u001b[0m\u001b[0mary\u001b[0m\u001b[1;33m)\u001b[0m\u001b[1;33m\u001b[0m\u001b[1;33m\u001b[0m\u001b[0m\n\u001b[0m\u001b[0;32m     68\u001b[0m         \u001b[1;32mif\u001b[0m \u001b[0mary\u001b[0m\u001b[1;33m.\u001b[0m\u001b[0mndim\u001b[0m \u001b[1;33m==\u001b[0m \u001b[1;36m0\u001b[0m\u001b[1;33m:\u001b[0m\u001b[1;33m\u001b[0m\u001b[1;33m\u001b[0m\u001b[0m\n\u001b[0;32m     69\u001b[0m             \u001b[0mresult\u001b[0m \u001b[1;33m=\u001b[0m \u001b[0mary\u001b[0m\u001b[1;33m.\u001b[0m\u001b[0mreshape\u001b[0m\u001b[1;33m(\u001b[0m\u001b[1;36m1\u001b[0m\u001b[1;33m)\u001b[0m\u001b[1;33m\u001b[0m\u001b[1;33m\u001b[0m\u001b[0m\n",
      "\u001b[1;32m~\\Anaconda3\\lib\\site-packages\\numpy\\core\\numeric.py\u001b[0m in \u001b[0;36masanyarray\u001b[1;34m(a, dtype, order)\u001b[0m\n\u001b[0;32m    589\u001b[0m \u001b[1;33m\u001b[0m\u001b[0m\n\u001b[0;32m    590\u001b[0m     \"\"\"\n\u001b[1;32m--> 591\u001b[1;33m     \u001b[1;32mreturn\u001b[0m \u001b[0marray\u001b[0m\u001b[1;33m(\u001b[0m\u001b[0ma\u001b[0m\u001b[1;33m,\u001b[0m \u001b[0mdtype\u001b[0m\u001b[1;33m,\u001b[0m \u001b[0mcopy\u001b[0m\u001b[1;33m=\u001b[0m\u001b[1;32mFalse\u001b[0m\u001b[1;33m,\u001b[0m \u001b[0morder\u001b[0m\u001b[1;33m=\u001b[0m\u001b[0morder\u001b[0m\u001b[1;33m,\u001b[0m \u001b[0msubok\u001b[0m\u001b[1;33m=\u001b[0m\u001b[1;32mTrue\u001b[0m\u001b[1;33m)\u001b[0m\u001b[1;33m\u001b[0m\u001b[1;33m\u001b[0m\u001b[0m\n\u001b[0m\u001b[0;32m    592\u001b[0m \u001b[1;33m\u001b[0m\u001b[0m\n\u001b[0;32m    593\u001b[0m \u001b[1;33m\u001b[0m\u001b[0m\n",
      "\u001b[1;31mValueError\u001b[0m: could not broadcast input array from shape (30,29) into shape (30)"
     ]
    },
    {
     "data": {
      "image/png": "[encoded data removed]",
      "text/plain": [
       "<Figure size 720x432 with 1 Axes>"
      ]
     },
     "metadata": {
      "needs_background": "light"
     },
     "output_type": "display_data"
    }
   ],
   "source": [
    "plt.figure(figsize = (10,6))\n",
    "plt.plot(real, label = \"real\")\n",
    "plt.plot(orignal_preds, label = \"LSTM\")\n",
    "plt.plot(orignal_preds_cnn, label = \"CNN\")\n",
    "#plt.plot(range(len(preds_varmax.loc[\"temperature\"])),preds_varmax.loc[\"temperature\"], label = \"predict varmax\")\n",
    "#plt.plot(range(len(preds_var[2])), preds_var[2], label = \"predict var\")\n",
    "plt.legend()"
   ]
  },
  {
   "cell_type": "code",
   "execution_count": 64,
   "metadata": {},
   "outputs": [
    {
     "data": {
      "text/plain": [
       "(500, 1, 29)"
      ]
     },
     "execution_count": 64,
     "metadata": {},
     "output_type": "execute_result"
    }
   ],
   "source": [
    "### neeeded for LSTM - time step == const = 1\n",
    "train_X_lstm = train_X.reshape((train_X.shape[0],1,train_X.shape[1]))\n",
    "test_X_lstm = test_X.reshape((test_X.shape[0],1, test_X.shape[1]))\n",
    "train_X_lstm.shape"
   ]
  },
  {
   "cell_type": "code",
   "execution_count": null,
   "metadata": {},
   "outputs": [],
   "source": []
  }
 ],
 "metadata": {
  "kernelspec": {
   "display_name": "Python 3",
   "language": "python",
   "name": "python3"
  },
  "language_info": {
   "codemirror_mode": {
    "name": "ipython",
    "version": 3
   },
   "file_extension": ".py",
   "mimetype": "text/x-python",
   "name": "python",
   "nbconvert_exporter": "python",
   "pygments_lexer": "ipython3",
   "version": "3.7.3"
  }
 },
 "nbformat": 4,
 "nbformat_minor": 2
}

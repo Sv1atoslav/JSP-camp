{
 "cells": [
  {
   "cell_type": "code",
   "execution_count": 137,
   "metadata": {},
   "outputs": [
    {
     "data": {
      "text/html": [
       "<div>\n",
       "<style scoped>\n",
       "    .dataframe tbody tr th:only-of-type {\n",
       "        vertical-align: middle;\n",
       "    }\n",
       "\n",
       "    .dataframe tbody tr th {\n",
       "        vertical-align: top;\n",
       "    }\n",
       "\n",
       "    .dataframe thead th {\n",
       "        text-align: right;\n",
       "    }\n",
       "</style>\n",
       "<table border=\"1\" class=\"dataframe\">\n",
       "  <thead>\n",
       "    <tr style=\"text-align: right;\">\n",
       "      <th></th>\n",
       "      <th>bot_profile</th>\n",
       "      <th>dialog</th>\n",
       "      <th>end_time</th>\n",
       "      <th>eval_score</th>\n",
       "      <th>participant1_id</th>\n",
       "      <th>participant2_id</th>\n",
       "      <th>profile_match</th>\n",
       "      <th>start_time</th>\n",
       "      <th>user_profile</th>\n",
       "    </tr>\n",
       "  </thead>\n",
       "  <tbody>\n",
       "    <tr>\n",
       "      <th>0</th>\n",
       "      <td>[i have amazing children and grandchildren., i...</td>\n",
       "      <td>[{'id': 0, 'sender': 'participant2', 'text': '...</td>\n",
       "      <td>2018-07-04 08:36:55.484</td>\n",
       "      <td>1.0</td>\n",
       "      <td>{'class': 'User', 'user_id': 'User 00686'}</td>\n",
       "      <td>{'class': 'Bot', 'user_id': 'Bot 002'}</td>\n",
       "      <td>0</td>\n",
       "      <td>2018-07-04 08:34:51.235</td>\n",
       "      <td>[two dogs live with me., i like doing the trea...</td>\n",
       "    </tr>\n",
       "  </tbody>\n",
       "</table>\n",
       "</div>"
      ],
      "text/plain": [
       "                                         bot_profile  \\\n",
       "0  [i have amazing children and grandchildren., i...   \n",
       "\n",
       "                                              dialog                end_time  \\\n",
       "0  [{'id': 0, 'sender': 'participant2', 'text': '... 2018-07-04 08:36:55.484   \n",
       "\n",
       "   eval_score                             participant1_id  \\\n",
       "0         1.0  {'class': 'User', 'user_id': 'User 00686'}   \n",
       "\n",
       "                          participant2_id profile_match  \\\n",
       "0  {'class': 'Bot', 'user_id': 'Bot 002'}             0   \n",
       "\n",
       "               start_time                                       user_profile  \n",
       "0 2018-07-04 08:34:51.235  [two dogs live with me., i like doing the trea...  "
      ]
     },
     "execution_count": 137,
     "metadata": {},
     "output_type": "execute_result"
    }
   ],
   "source": [
    "import json  \n",
    "import pandas as pd  \n",
    "from pandas.io.json import json_normalize\n",
    "\n",
    "data = pd.read_json('dialog.json')\n",
    "# data = data[data.profile_match==1]\n",
    "data.head(1)"
   ]
  },
  {
   "cell_type": "code",
   "execution_count": 138,
   "metadata": {},
   "outputs": [],
   "source": [
    "X = data.dialog\n",
    "# Y = data.user_profile"
   ]
  },
  {
   "cell_type": "code",
   "execution_count": 140,
   "metadata": {},
   "outputs": [
    {
     "data": {
      "text/plain": [
       "[{'id': 0,\n",
       "  'sender': 'participant1',\n",
       "  'text': 'Hello',\n",
       "  'evaluation_score': None,\n",
       "  'sender_class': 'Human'},\n",
       " {'id': 1,\n",
       "  'sender': 'participant1',\n",
       "  'text': '/test',\n",
       "  'evaluation_score': None,\n",
       "  'sender_class': 'Human'}]"
      ]
     },
     "execution_count": 140,
     "metadata": {},
     "output_type": "execute_result"
    }
   ],
   "source": [
    "X[1]"
   ]
  },
  {
   "cell_type": "code",
   "execution_count": 144,
   "metadata": {},
   "outputs": [
    {
     "data": {
      "text/plain": [
       "[{'id': 0,\n",
       "  'sender': 'participant2',\n",
       "  'text': 'I love painting, i love to paint',\n",
       "  'evaluation_score': None,\n",
       "  'sender_class': 'Bot'}]"
      ]
     },
     "execution_count": 144,
     "metadata": {},
     "output_type": "execute_result"
    }
   ],
   "source": [
    "data.dialog[3]"
   ]
  },
  {
   "cell_type": "code",
   "execution_count": null,
   "metadata": {},
   "outputs": [],
   "source": []
  }
 ],
 "metadata": {
  "kernelspec": {
   "display_name": "Python 3",
   "language": "python",
   "name": "python3"
  },
  "language_info": {
   "codemirror_mode": {
    "name": "ipython",
    "version": 3
   },
   "file_extension": ".py",
   "mimetype": "text/x-python",
   "name": "python",
   "nbconvert_exporter": "python",
   "pygments_lexer": "ipython3",
   "version": "3.7.3"
  }
 },
 "nbformat": 4,
 "nbformat_minor": 2
}

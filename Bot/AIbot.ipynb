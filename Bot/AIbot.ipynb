{
 "cells": [
  {
   "cell_type": "code",
   "execution_count": 7,
   "metadata": {},
   "outputs": [],
   "source": [
    "import nltk\n",
    "from nltk.tokenize import word_tokenize\n",
    "from nltk.tag import pos_tag\n",
    "from nltk.stem import WordNetLemmatizer "
   ]
  },
  {
   "cell_type": "code",
   "execution_count": 8,
   "metadata": {},
   "outputs": [],
   "source": [
    "import requests\n",
    "\n",
    "def get_weather(city_name):\n",
    "    URL = 'https://api.openweathermap.org/data/2.5/weather?q='\n",
    "    URL+= city_name\n",
    "    URL+= '+&appid=886705b4c1182eb1c69f28eb8c520e20'\n",
    "    location = 'Lviv'\n",
    "    PARAMS = {'address':location}\n",
    "    r = requests.get(url = URL, params=PARAMS)\n",
    "    data = r.json() \n",
    "    if data['cod'] != 200:\n",
    "        print('Sorry, i do not understand')\n",
    "        return ''\n",
    "    weather = [data['weather'][0]['description'], data['main']['temp'], data['main']['humidity']]\n",
    "    return weather"
   ]
  },
  {
   "cell_type": "code",
   "execution_count": 9,
   "metadata": {},
   "outputs": [],
   "source": [
    "def preprocess(sent):\n",
    "    sent = nltk.word_tokenize(sent)\n",
    "    sent = nltk.pos_tag(sent)\n",
    "    return sent"
   ]
  },
  {
   "cell_type": "code",
   "execution_count": 10,
   "metadata": {},
   "outputs": [],
   "source": [
    "def determine_weather(words):\n",
    "    lemmatizer = WordNetLemmatizer() \n",
    "    for x in words:\n",
    "        if lemmatizer.lemmatize(x[0]) == 'weather':\n",
    "            return True\n",
    "    return False"
   ]
  },
  {
   "cell_type": "code",
   "execution_count": 11,
   "metadata": {},
   "outputs": [],
   "source": [
    "def city_detection(sent):\n",
    "    cities = []\n",
    "    for x in range(len(sent)):\n",
    "        if sent[x][1] == 'NNP':\n",
    "            cities.append(sent[x][0].capitalize())\n",
    "    return cities"
   ]
  },
  {
   "cell_type": "code",
   "execution_count": 21,
   "metadata": {},
   "outputs": [],
   "source": [
    "def answer_for_weather(sent, answered):\n",
    "    if determine_weather(sent):\n",
    "        cities = city_detection(sent)\n",
    "        if len(cities) != 0:\n",
    "            for city in cities:\n",
    "                weather = get_weather(city)\n",
    "                if not answered:\n",
    "                    print('Today is ',weather[0].lower() , ', the temperature is',\n",
    "                            weather[1], 'and a humidity -', weather[2])\n",
    "                    return True\n",
    "                else:\n",
    "                    print('In ',city,', today is ',weather[0].lower() , ', the temperature is',\n",
    "                            weather[1], 'and a humidity -', weather[2])\n",
    "        else: print('Sorry, i do not understand')\n",
    "    else:\n",
    "        print('Sorry, what?')"
   ]
  },
  {
   "cell_type": "code",
   "execution_count": 23,
   "metadata": {},
   "outputs": [
    {
     "name": "stdout",
     "output_type": "stream",
     "text": [
      "What is the weather in Lviv?\n",
      "Today is  scattered clouds , the temperature is 293.5 and a humidity - 64\n",
      "What is the weather in Lviv?\n",
      "In  Lviv , today is  scattered clouds , the temperature is 293.5 and a humidity - 64\n",
      "q\n"
     ]
    }
   ],
   "source": [
    "answered = False\n",
    "while(True):\n",
    "    text = input()\n",
    "    if text == 'q':\n",
    "        break\n",
    "    sent = preprocess(text)\n",
    "    answered = answer_for_weather(sent, answered)\n",
    "#             What is the weather in Lviv?"
   ]
  },
  {
   "cell_type": "code",
   "execution_count": null,
   "metadata": {},
   "outputs": [],
   "source": []
  }
 ],
 "metadata": {
  "kernelspec": {
   "display_name": "Python 3",
   "language": "python",
   "name": "python3"
  },
  "language_info": {
   "codemirror_mode": {
    "name": "ipython",
    "version": 3
   },
   "file_extension": ".py",
   "mimetype": "text/x-python",
   "name": "python",
   "nbconvert_exporter": "python",
   "pygments_lexer": "ipython3",
   "version": "3.7.3"
  }
 },
 "nbformat": 4,
 "nbformat_minor": 2
}

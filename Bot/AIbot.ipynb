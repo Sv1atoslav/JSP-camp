{
 "cells": [
  {
   "cell_type": "code",
   "execution_count": 13,
   "metadata": {},
   "outputs": [],
   "source": [
    "import nltk\n",
    "from nltk.tokenize import word_tokenize\n",
    "from nltk.tag import pos_tag\n",
    "from nltk.stem import WordNetLemmatizer "
   ]
  },
  {
   "cell_type": "code",
   "execution_count": 14,
   "metadata": {},
   "outputs": [],
   "source": [
    "import requests\n",
    "\n",
    "def get_weather(city_name):\n",
    "    URL = 'https://api.openweathermap.org/data/2.5/weather?q='\n",
    "    URL+= city_name\n",
    "    URL+= '+&appid=886705b4c1182eb1c69f28eb8c520e20'\n",
    "    location = 'Lviv'\n",
    "    PARAMS = {'address':location}\n",
    "    r = requests.get(url = URL, params=PARAMS)\n",
    "    data = r.json() \n",
    "    if data['cod'] != 200:\n",
    "        print('Sorry, i do not understand')\n",
    "        return ''\n",
    "    return data['weather'][0]['main']"
   ]
  },
  {
   "cell_type": "code",
   "execution_count": 15,
   "metadata": {},
   "outputs": [],
   "source": [
    "def preprocess(sent):\n",
    "    sent = nltk.word_tokenize(sent)\n",
    "    sent = nltk.pos_tag(sent)\n",
    "    return sent"
   ]
  },
  {
   "cell_type": "code",
   "execution_count": 16,
   "metadata": {},
   "outputs": [],
   "source": [
    "def determine_weather(words):\n",
    "    lemmatizer = WordNetLemmatizer() \n",
    "    for x in words:\n",
    "        if lemmatizer.lemmatize(x[0]) == 'weather':\n",
    "            return True\n",
    "    return False"
   ]
  },
  {
   "cell_type": "code",
   "execution_count": 17,
   "metadata": {},
   "outputs": [],
   "source": [
    "def city_detection(sent):\n",
    "    cities = []\n",
    "    for x in range(len(sent)):\n",
    "        if sent[x][1] == 'NNP':\n",
    "            cities.append(sent[x][0].capitalize())\n",
    "    return cities"
   ]
  },
  {
   "cell_type": "code",
   "execution_count": 19,
   "metadata": {},
   "outputs": [
    {
     "name": "stdout",
     "output_type": "stream",
     "text": [
      "What is the weather in London?\n",
      "Today is  clear in London\n",
      "Okay, and the weather in Lviv?\n",
      "Sorry, i do not understand\n",
      "Today is   in Okay\n",
      "Today is  smoke in Lviv\n",
      "How is your day?\n",
      "Sorry, what?\n",
      "q\n"
     ]
    }
   ],
   "source": [
    "while(True):\n",
    "    text = input()\n",
    "    if text == 'q':\n",
    "        break\n",
    "    sent = preprocess(text)\n",
    "    if determine_weather(sent):\n",
    "        cities = city_detection(sent)\n",
    "        if len(cities) != 0:\n",
    "                for city in cities:\n",
    "                    weather = get_weather(city).lower()\n",
    "                    print('Today is ',weather , 'in', city)\n",
    "        else: print('Sorry, i do not understand')\n",
    "#             What is the weather in Lviv?\n",
    "    else:\n",
    "        print('Sorry, what?')"
   ]
  },
  {
   "cell_type": "code",
   "execution_count": null,
   "metadata": {},
   "outputs": [],
   "source": []
  }
 ],
 "metadata": {
  "kernelspec": {
   "display_name": "Python 3",
   "language": "python",
   "name": "python3"
  }
 },
 "nbformat": 4,
 "nbformat_minor": 2
}

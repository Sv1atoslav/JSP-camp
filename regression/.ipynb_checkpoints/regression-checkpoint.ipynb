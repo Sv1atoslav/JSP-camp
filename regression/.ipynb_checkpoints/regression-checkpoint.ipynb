{
 "cells": [
  {
   "cell_type": "code",
   "execution_count": 62,
   "metadata": {},
   "outputs": [],
   "source": [
    "import pandas as pd\n",
    "from sklearn import datasets, linear_model\n",
    "from sklearn.metrics import mean_squared_error, r2_score\n",
    "from sklearn import preprocessing\n",
    "\n",
    "# Load the diabetes dataset\n",
    "houses = pd.read_csv('data.csv')\n"
   ]
  },
  {
   "cell_type": "code",
   "execution_count": 63,
   "metadata": {},
   "outputs": [],
   "source": [
    "\n",
    "# data for testing and training\n",
    "houses_X = houses[['bedrooms', 'bathrooms', 'sqft_living', 'sqft_lot', 'floors', 'yr_built',  ]]\n",
    "\n",
    "# price of houses\n",
    "houses_Y = houses['price']"
   ]
  },
  {
   "cell_type": "code",
   "execution_count": 64,
   "metadata": {},
   "outputs": [],
   "source": [
    "from sklearn.model_selection import train_test_split\n",
    "\n",
    "# Split the data into training/testing sets\n",
    "houses_X_train, houses_X_test, houses_Y_train, houses_Y_test = train_test_split(houses_X, houses_Y,\n",
    "                                                                                test_size=0.2, random_state=1) \n"
   ]
  },
  {
   "cell_type": "code",
   "execution_count": 65,
   "metadata": {},
   "outputs": [],
   "source": [
    "from sklearn.preprocessing import PolynomialFeatures\n",
    "\n",
    "poly = PolynomialFeatures(2)\n",
    "houses_X_train = poly.fit_transform(houses_X_train)\n",
    "houses_X_test = poly.fit_transform(houses_X_test)"
   ]
  },
  {
   "cell_type": "code",
   "execution_count": null,
   "metadata": {},
   "outputs": [],
   "source": [
    "houses_X_train = preprocessing.scale(houses_X_train)\n",
    "houses_X_test = preprocessing.scale(houses_X_test)"
   ]
  },
  {
   "cell_type": "code",
   "execution_count": 55,
   "metadata": {},
   "outputs": [],
   "source": [
    "houses_X_train = preprocessing.normalize(houses_X_train)\n",
    "houses_X_test = preprocessing.normalize(houses_X_test)"
   ]
  },
  {
   "cell_type": "code",
   "execution_count": 66,
   "metadata": {},
   "outputs": [],
   "source": [
    "# Create linear regression object\n",
    "regr = linear_model.LinearRegression()\n",
    "\n",
    "# Make predictions using the testing set\n",
    "regr.fit(houses_X_train, houses_Y_train)\n",
    "\n",
    "houses_pred = regr.predict(houses_X_test)"
   ]
  },
  {
   "cell_type": "code",
   "execution_count": 67,
   "metadata": {},
   "outputs": [
    {
     "name": "stdout",
     "output_type": "stream",
     "text": [
      "Mean squared error: 65810634999.77\n",
      "Variance score: 0.62\n"
     ]
    }
   ],
   "source": [
    "\n",
    "# The coefficients\n",
    "# print('Coefficients: \\n', clf.coef_)\n",
    "\n",
    "# The mean squared error\n",
    "print(\"Mean squared error: %.2f\"\n",
    "      % mean_squared_error(houses_Y_test, houses_pred))\n",
    "\n",
    "# Explained variance score: 1 is perfect prediction\n",
    "print('Variance score: %.2f' % r2_score(houses_Y_test, houses_pred))\n"
   ]
  },
  {
   "cell_type": "code",
   "execution_count": 68,
   "metadata": {},
   "outputs": [],
   "source": [
    "import statsmodels.api as sm\n",
    "\n",
    "houses_X_train = sm.add_constant(houses_X_train)\n",
    "houses_X_test = sm.add_constant(houses_X_test)\n",
    "\n",
    "est = sm.OLS(houses_Y_train, houses_X_train)\n",
    "est = est.fit()"
   ]
  },
  {
   "cell_type": "code",
   "execution_count": 69,
   "metadata": {},
   "outputs": [
    {
     "name": "stdout",
     "output_type": "stream",
     "text": [
      "                            OLS Regression Results                            \n",
      "==============================================================================\n",
      "Dep. Variable:                  price   R-squared:                       0.597\n",
      "Model:                            OLS   Adj. R-squared:                  0.596\n",
      "Method:                 Least Squares   F-statistic:                     982.7\n",
      "Date:                Fri, 23 Aug 2019   Prob (F-statistic):               0.00\n",
      "Time:                        11:59:23   Log-Likelihood:            -2.3759e+05\n",
      "No. Observations:               17290   AIC:                         4.752e+05\n",
      "Df Residuals:                   17263   BIC:                         4.755e+05\n",
      "Df Model:                          26                                         \n",
      "Covariance Type:            nonrobust                                         \n",
      "==============================================================================\n",
      "                 coef    std err          t      P>|t|      [0.025      0.975]\n",
      "------------------------------------------------------------------------------\n",
      "const       4.032e+07    9.7e+06      4.158      0.000    2.13e+07    5.93e+07\n",
      "x1           6.58e+05   1.71e+05      3.838      0.000    3.22e+05    9.94e+05\n",
      "x2          -1.07e+06   2.93e+05     -3.647      0.000   -1.64e+06   -4.95e+05\n",
      "x3          2575.2741    250.008     10.301      0.000    2085.233    3065.316\n",
      "x4           -44.3123      4.499     -9.849      0.000     -53.131     -35.493\n",
      "x5          3.782e+04   3.57e+05      0.106      0.916   -6.61e+05    7.37e+05\n",
      "x6         -4.035e+04   9982.586     -4.042      0.000   -5.99e+04   -2.08e+04\n",
      "x7          1411.7053    281.015      5.024      0.000     860.888    1962.522\n",
      "x8          -686.6030   4424.464     -0.155      0.877   -9359.001    7985.795\n",
      "x9           -23.6988      3.694     -6.415      0.000     -30.940     -16.457\n",
      "x10            0.2002      0.058      3.454      0.001       0.087       0.314\n",
      "x11         7729.7808   5397.307      1.432      0.152   -2849.488    1.83e+04\n",
      "x12         -345.6771     88.844     -3.891      0.000    -519.820    -171.534\n",
      "x13        -1.454e+04   5344.941     -2.721      0.007    -2.5e+04   -4066.370\n",
      "x14           34.5870      6.078      5.690      0.000      22.673      46.501\n",
      "x15            0.0146      0.091      0.161      0.872      -0.164       0.193\n",
      "x16        -1.721e+04   8777.965     -1.961      0.050   -3.44e+04      -5.903\n",
      "x17          584.3580    151.289      3.863      0.000     287.817     880.899\n",
      "x18            0.0421      0.003     14.577      0.000       0.036       0.048\n",
      "x19           -0.0007   7.39e-05    -10.135      0.000      -0.001      -0.001\n",
      "x20           12.4234      6.810      1.824      0.068      -0.925      25.771\n",
      "x21           -1.2728      0.128     -9.914      0.000      -1.524      -1.021\n",
      "x22          8.84e-07   1.04e-07      8.485      0.000     6.8e-07    1.09e-06\n",
      "x23            0.1108      0.105      1.059      0.290      -0.094       0.316\n",
      "x24            0.0226      0.002      9.858      0.000       0.018       0.027\n",
      "x25         5.914e+04   6973.103      8.482      0.000    4.55e+04    7.28e+04\n",
      "x26         -102.0927    184.035     -0.555      0.579    -462.820     258.635\n",
      "x27           10.1531      2.572      3.947      0.000       5.111      15.195\n",
      "==============================================================================\n",
      "Omnibus:                     7703.196   Durbin-Watson:                   2.000\n",
      "Prob(Omnibus):                  0.000   Jarque-Bera (JB):           135452.314\n",
      "Skew:                           1.697   Prob(JB):                         0.00\n",
      "Kurtosis:                      16.285   Cond. No.                     1.85e+14\n",
      "==============================================================================\n",
      "\n",
      "Warnings:\n",
      "[1] Standard Errors assume that the covariance matrix of the errors is correctly specified.\n",
      "[2] The condition number is large, 1.85e+14. This might indicate that there are\n",
      "strong multicollinearity or other numerical problems.\n"
     ]
    }
   ],
   "source": [
    "print(est.summary())"
   ]
  },
  {
   "cell_type": "code",
   "execution_count": 70,
   "metadata": {},
   "outputs": [],
   "source": [
    "houses_pred_sm = est.predict(houses_X_test)"
   ]
  },
  {
   "cell_type": "code",
   "execution_count": 71,
   "metadata": {},
   "outputs": [
    {
     "name": "stdout",
     "output_type": "stream",
     "text": [
      "Variance score: 0.62\n"
     ]
    }
   ],
   "source": [
    "print('Variance score: %.2f' % r2_score(houses_Y_test, houses_pred_sm))"
   ]
  },
  {
   "cell_type": "code",
   "execution_count": null,
   "metadata": {},
   "outputs": [],
   "source": []
  }
 ],
 "metadata": {
  "kernelspec": {
   "display_name": "Python 3",
   "language": "python",
   "name": "python3"
  },
  "language_info": {
   "codemirror_mode": {
    "name": "ipython",
    "version": 3
   },
   "file_extension": ".py",
   "mimetype": "text/x-python",
   "name": "python",
   "nbconvert_exporter": "python",
   "pygments_lexer": "ipython3",
   "version": "3.7.3"
  }
 },
 "nbformat": 4,
 "nbformat_minor": 1
}
